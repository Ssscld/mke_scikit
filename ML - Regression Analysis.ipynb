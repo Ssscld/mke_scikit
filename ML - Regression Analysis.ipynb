{
 "cells": [
  {
   "cell_type": "markdown",
   "metadata": {},
   "source": [
    "# First let's import our data analysis libraries"
   ]
  },
  {
   "cell_type": "code",
   "execution_count": 54,
   "metadata": {
    "collapsed": true
   },
   "outputs": [],
   "source": [
    "import pandas as pd\n",
    "import numpy as np"
   ]
  },
  {
   "cell_type": "markdown",
   "metadata": {},
   "source": [
    "# Now our data visualization libraries"
   ]
  },
  {
   "cell_type": "code",
   "execution_count": 55,
   "metadata": {
    "collapsed": true
   },
   "outputs": [],
   "source": [
    "import matplotlib.pyplot as plt\n",
    "import seaborn as sns\n",
    "%matplotlib inline"
   ]
  },
  {
   "cell_type": "markdown",
   "metadata": {},
   "source": [
    "# Let's load our csv file using Pandas"
   ]
  },
  {
   "cell_type": "code",
   "execution_count": 56,
   "metadata": {
    "collapsed": true
   },
   "outputs": [],
   "source": [
    "ml_reg = pd.read_csv('zillow_allhomes.csv')"
   ]
  },
  {
   "cell_type": "markdown",
   "metadata": {},
   "source": [
    "# We can get a sense of our data by using some simple dataframe functions"
   ]
  },
  {
   "cell_type": "code",
   "execution_count": 57,
   "metadata": {
    "collapsed": false
   },
   "outputs": [
    {
     "name": "stdout",
     "output_type": "stream",
     "text": [
      "<class 'pandas.core.frame.DataFrame'>\n",
      "RangeIndex: 12481 entries, 0 to 12480\n",
      "Columns: 253 entries, RegionID to 2016-09\n",
      "dtypes: float64(202), int64(47), object(4)\n",
      "memory usage: 24.1+ MB\n"
     ]
    }
   ],
   "source": [
    "ml_reg.info()"
   ]
  },
  {
   "cell_type": "code",
   "execution_count": 58,
   "metadata": {
    "collapsed": false
   },
   "outputs": [
    {
     "name": "stderr",
     "output_type": "stream",
     "text": [
      "/Users/jacquescamier/anaconda/lib/python3.5/site-packages/numpy/lib/function_base.py:3834: RuntimeWarning: Invalid value encountered in percentile\n",
      "  RuntimeWarning)\n"
     ]
    },
    {
     "data": {
      "text/html": [
       "<div>\n",
       "<table border=\"1\" class=\"dataframe\">\n",
       "  <thead>\n",
       "    <tr style=\"text-align: right;\">\n",
       "      <th></th>\n",
       "      <th>RegionID</th>\n",
       "      <th>RegionName</th>\n",
       "      <th>SizeRank</th>\n",
       "      <th>1996-04</th>\n",
       "      <th>1996-05</th>\n",
       "      <th>1996-06</th>\n",
       "      <th>1996-07</th>\n",
       "      <th>1996-08</th>\n",
       "      <th>1996-09</th>\n",
       "      <th>1996-10</th>\n",
       "      <th>...</th>\n",
       "      <th>2015-12</th>\n",
       "      <th>2016-01</th>\n",
       "      <th>2016-02</th>\n",
       "      <th>2016-03</th>\n",
       "      <th>2016-04</th>\n",
       "      <th>2016-05</th>\n",
       "      <th>2016-06</th>\n",
       "      <th>2016-07</th>\n",
       "      <th>2016-08</th>\n",
       "      <th>2016-09</th>\n",
       "    </tr>\n",
       "  </thead>\n",
       "  <tbody>\n",
       "    <tr>\n",
       "      <th>count</th>\n",
       "      <td>12481.000000</td>\n",
       "      <td>12481.000000</td>\n",
       "      <td>12481.00000</td>\n",
       "      <td>9.479000e+03</td>\n",
       "      <td>9.596000e+03</td>\n",
       "      <td>9.618000e+03</td>\n",
       "      <td>9.620000e+03</td>\n",
       "      <td>9.632000e+03</td>\n",
       "      <td>9.632000e+03</td>\n",
       "      <td>9.632000e+03</td>\n",
       "      <td>...</td>\n",
       "      <td>1.248100e+04</td>\n",
       "      <td>1.248100e+04</td>\n",
       "      <td>1.248100e+04</td>\n",
       "      <td>1.248100e+04</td>\n",
       "      <td>1.248100e+04</td>\n",
       "      <td>1.248100e+04</td>\n",
       "      <td>1.248100e+04</td>\n",
       "      <td>1.248100e+04</td>\n",
       "      <td>1.248100e+04</td>\n",
       "      <td>1.248100e+04</td>\n",
       "    </tr>\n",
       "    <tr>\n",
       "      <th>mean</th>\n",
       "      <td>80411.474882</td>\n",
       "      <td>46186.903293</td>\n",
       "      <td>6241.00000</td>\n",
       "      <td>1.205052e+05</td>\n",
       "      <td>1.204896e+05</td>\n",
       "      <td>1.204974e+05</td>\n",
       "      <td>1.205789e+05</td>\n",
       "      <td>1.206743e+05</td>\n",
       "      <td>1.207999e+05</td>\n",
       "      <td>1.209790e+05</td>\n",
       "      <td>...</td>\n",
       "      <td>2.536400e+05</td>\n",
       "      <td>2.545099e+05</td>\n",
       "      <td>2.555217e+05</td>\n",
       "      <td>2.566992e+05</td>\n",
       "      <td>2.577561e+05</td>\n",
       "      <td>2.586168e+05</td>\n",
       "      <td>2.594235e+05</td>\n",
       "      <td>2.604256e+05</td>\n",
       "      <td>2.617457e+05</td>\n",
       "      <td>2.629272e+05</td>\n",
       "    </tr>\n",
       "    <tr>\n",
       "      <th>std</th>\n",
       "      <td>33188.052384</td>\n",
       "      <td>30425.214388</td>\n",
       "      <td>3603.09869</td>\n",
       "      <td>7.029296e+04</td>\n",
       "      <td>7.003150e+04</td>\n",
       "      <td>7.010103e+04</td>\n",
       "      <td>7.022980e+04</td>\n",
       "      <td>7.029980e+04</td>\n",
       "      <td>7.040037e+04</td>\n",
       "      <td>7.053627e+04</td>\n",
       "      <td>...</td>\n",
       "      <td>2.467275e+05</td>\n",
       "      <td>2.479438e+05</td>\n",
       "      <td>2.493234e+05</td>\n",
       "      <td>2.505403e+05</td>\n",
       "      <td>2.512693e+05</td>\n",
       "      <td>2.516297e+05</td>\n",
       "      <td>2.519178e+05</td>\n",
       "      <td>2.524270e+05</td>\n",
       "      <td>2.529529e+05</td>\n",
       "      <td>2.533642e+05</td>\n",
       "    </tr>\n",
       "    <tr>\n",
       "      <th>min</th>\n",
       "      <td>58196.000000</td>\n",
       "      <td>1001.000000</td>\n",
       "      <td>1.00000</td>\n",
       "      <td>2.170000e+04</td>\n",
       "      <td>2.170000e+04</td>\n",
       "      <td>2.200000e+04</td>\n",
       "      <td>2.220000e+04</td>\n",
       "      <td>2.270000e+04</td>\n",
       "      <td>2.320000e+04</td>\n",
       "      <td>2.360000e+04</td>\n",
       "      <td>...</td>\n",
       "      <td>3.060000e+04</td>\n",
       "      <td>3.060000e+04</td>\n",
       "      <td>3.070000e+04</td>\n",
       "      <td>3.050000e+04</td>\n",
       "      <td>3.020000e+04</td>\n",
       "      <td>3.000000e+04</td>\n",
       "      <td>3.030000e+04</td>\n",
       "      <td>3.070000e+04</td>\n",
       "      <td>3.090000e+04</td>\n",
       "      <td>3.130000e+04</td>\n",
       "    </tr>\n",
       "    <tr>\n",
       "      <th>25%</th>\n",
       "      <td>65811.000000</td>\n",
       "      <td>19135.000000</td>\n",
       "      <td>3121.00000</td>\n",
       "      <td>NaN</td>\n",
       "      <td>NaN</td>\n",
       "      <td>NaN</td>\n",
       "      <td>NaN</td>\n",
       "      <td>NaN</td>\n",
       "      <td>NaN</td>\n",
       "      <td>NaN</td>\n",
       "      <td>...</td>\n",
       "      <td>1.253000e+05</td>\n",
       "      <td>1.255000e+05</td>\n",
       "      <td>1.257000e+05</td>\n",
       "      <td>1.262000e+05</td>\n",
       "      <td>1.267000e+05</td>\n",
       "      <td>1.271000e+05</td>\n",
       "      <td>1.276000e+05</td>\n",
       "      <td>1.280000e+05</td>\n",
       "      <td>1.289000e+05</td>\n",
       "      <td>1.296000e+05</td>\n",
       "    </tr>\n",
       "    <tr>\n",
       "      <th>50%</th>\n",
       "      <td>75862.000000</td>\n",
       "      <td>40223.000000</td>\n",
       "      <td>6241.00000</td>\n",
       "      <td>NaN</td>\n",
       "      <td>NaN</td>\n",
       "      <td>NaN</td>\n",
       "      <td>NaN</td>\n",
       "      <td>NaN</td>\n",
       "      <td>NaN</td>\n",
       "      <td>NaN</td>\n",
       "      <td>...</td>\n",
       "      <td>1.819000e+05</td>\n",
       "      <td>1.826000e+05</td>\n",
       "      <td>1.831000e+05</td>\n",
       "      <td>1.840000e+05</td>\n",
       "      <td>1.848000e+05</td>\n",
       "      <td>1.855000e+05</td>\n",
       "      <td>1.864000e+05</td>\n",
       "      <td>1.872000e+05</td>\n",
       "      <td>1.885000e+05</td>\n",
       "      <td>1.897000e+05</td>\n",
       "    </tr>\n",
       "    <tr>\n",
       "      <th>75%</th>\n",
       "      <td>90759.000000</td>\n",
       "      <td>75077.000000</td>\n",
       "      <td>9361.00000</td>\n",
       "      <td>NaN</td>\n",
       "      <td>NaN</td>\n",
       "      <td>NaN</td>\n",
       "      <td>NaN</td>\n",
       "      <td>NaN</td>\n",
       "      <td>NaN</td>\n",
       "      <td>NaN</td>\n",
       "      <td>...</td>\n",
       "      <td>2.927000e+05</td>\n",
       "      <td>2.943000e+05</td>\n",
       "      <td>2.958000e+05</td>\n",
       "      <td>2.972000e+05</td>\n",
       "      <td>2.987000e+05</td>\n",
       "      <td>2.993000e+05</td>\n",
       "      <td>3.003000e+05</td>\n",
       "      <td>3.020000e+05</td>\n",
       "      <td>3.042000e+05</td>\n",
       "      <td>3.061000e+05</td>\n",
       "    </tr>\n",
       "    <tr>\n",
       "      <th>max</th>\n",
       "      <td>738092.000000</td>\n",
       "      <td>99901.000000</td>\n",
       "      <td>12481.00000</td>\n",
       "      <td>1.743500e+06</td>\n",
       "      <td>1.745200e+06</td>\n",
       "      <td>1.744300e+06</td>\n",
       "      <td>1.741300e+06</td>\n",
       "      <td>1.739700e+06</td>\n",
       "      <td>1.741300e+06</td>\n",
       "      <td>1.744500e+06</td>\n",
       "      <td>...</td>\n",
       "      <td>6.053400e+06</td>\n",
       "      <td>6.105200e+06</td>\n",
       "      <td>6.154300e+06</td>\n",
       "      <td>6.185800e+06</td>\n",
       "      <td>6.207100e+06</td>\n",
       "      <td>6.220800e+06</td>\n",
       "      <td>6.191400e+06</td>\n",
       "      <td>6.155500e+06</td>\n",
       "      <td>6.126100e+06</td>\n",
       "      <td>6.108000e+06</td>\n",
       "    </tr>\n",
       "  </tbody>\n",
       "</table>\n",
       "<p>8 rows × 249 columns</p>\n",
       "</div>"
      ],
      "text/plain": [
       "            RegionID    RegionName     SizeRank       1996-04       1996-05  \\\n",
       "count   12481.000000  12481.000000  12481.00000  9.479000e+03  9.596000e+03   \n",
       "mean    80411.474882  46186.903293   6241.00000  1.205052e+05  1.204896e+05   \n",
       "std     33188.052384  30425.214388   3603.09869  7.029296e+04  7.003150e+04   \n",
       "min     58196.000000   1001.000000      1.00000  2.170000e+04  2.170000e+04   \n",
       "25%     65811.000000  19135.000000   3121.00000           NaN           NaN   \n",
       "50%     75862.000000  40223.000000   6241.00000           NaN           NaN   \n",
       "75%     90759.000000  75077.000000   9361.00000           NaN           NaN   \n",
       "max    738092.000000  99901.000000  12481.00000  1.743500e+06  1.745200e+06   \n",
       "\n",
       "            1996-06       1996-07       1996-08       1996-09       1996-10  \\\n",
       "count  9.618000e+03  9.620000e+03  9.632000e+03  9.632000e+03  9.632000e+03   \n",
       "mean   1.204974e+05  1.205789e+05  1.206743e+05  1.207999e+05  1.209790e+05   \n",
       "std    7.010103e+04  7.022980e+04  7.029980e+04  7.040037e+04  7.053627e+04   \n",
       "min    2.200000e+04  2.220000e+04  2.270000e+04  2.320000e+04  2.360000e+04   \n",
       "25%             NaN           NaN           NaN           NaN           NaN   \n",
       "50%             NaN           NaN           NaN           NaN           NaN   \n",
       "75%             NaN           NaN           NaN           NaN           NaN   \n",
       "max    1.744300e+06  1.741300e+06  1.739700e+06  1.741300e+06  1.744500e+06   \n",
       "\n",
       "           ...            2015-12       2016-01       2016-02       2016-03  \\\n",
       "count      ...       1.248100e+04  1.248100e+04  1.248100e+04  1.248100e+04   \n",
       "mean       ...       2.536400e+05  2.545099e+05  2.555217e+05  2.566992e+05   \n",
       "std        ...       2.467275e+05  2.479438e+05  2.493234e+05  2.505403e+05   \n",
       "min        ...       3.060000e+04  3.060000e+04  3.070000e+04  3.050000e+04   \n",
       "25%        ...       1.253000e+05  1.255000e+05  1.257000e+05  1.262000e+05   \n",
       "50%        ...       1.819000e+05  1.826000e+05  1.831000e+05  1.840000e+05   \n",
       "75%        ...       2.927000e+05  2.943000e+05  2.958000e+05  2.972000e+05   \n",
       "max        ...       6.053400e+06  6.105200e+06  6.154300e+06  6.185800e+06   \n",
       "\n",
       "            2016-04       2016-05       2016-06       2016-07       2016-08  \\\n",
       "count  1.248100e+04  1.248100e+04  1.248100e+04  1.248100e+04  1.248100e+04   \n",
       "mean   2.577561e+05  2.586168e+05  2.594235e+05  2.604256e+05  2.617457e+05   \n",
       "std    2.512693e+05  2.516297e+05  2.519178e+05  2.524270e+05  2.529529e+05   \n",
       "min    3.020000e+04  3.000000e+04  3.030000e+04  3.070000e+04  3.090000e+04   \n",
       "25%    1.267000e+05  1.271000e+05  1.276000e+05  1.280000e+05  1.289000e+05   \n",
       "50%    1.848000e+05  1.855000e+05  1.864000e+05  1.872000e+05  1.885000e+05   \n",
       "75%    2.987000e+05  2.993000e+05  3.003000e+05  3.020000e+05  3.042000e+05   \n",
       "max    6.207100e+06  6.220800e+06  6.191400e+06  6.155500e+06  6.126100e+06   \n",
       "\n",
       "            2016-09  \n",
       "count  1.248100e+04  \n",
       "mean   2.629272e+05  \n",
       "std    2.533642e+05  \n",
       "min    3.130000e+04  \n",
       "25%    1.296000e+05  \n",
       "50%    1.897000e+05  \n",
       "75%    3.061000e+05  \n",
       "max    6.108000e+06  \n",
       "\n",
       "[8 rows x 249 columns]"
      ]
     },
     "execution_count": 58,
     "metadata": {},
     "output_type": "execute_result"
    }
   ],
   "source": [
    "ml_reg.describe()"
   ]
  },
  {
   "cell_type": "code",
   "execution_count": 59,
   "metadata": {
    "collapsed": false
   },
   "outputs": [
    {
     "data": {
      "text/html": [
       "<div>\n",
       "<table border=\"1\" class=\"dataframe\">\n",
       "  <thead>\n",
       "    <tr style=\"text-align: right;\">\n",
       "      <th></th>\n",
       "      <th>RegionID</th>\n",
       "      <th>RegionName</th>\n",
       "      <th>City</th>\n",
       "      <th>State</th>\n",
       "      <th>Metro</th>\n",
       "      <th>CountyName</th>\n",
       "      <th>SizeRank</th>\n",
       "      <th>1996-04</th>\n",
       "      <th>1996-05</th>\n",
       "      <th>1996-06</th>\n",
       "      <th>...</th>\n",
       "      <th>2015-12</th>\n",
       "      <th>2016-01</th>\n",
       "      <th>2016-02</th>\n",
       "      <th>2016-03</th>\n",
       "      <th>2016-04</th>\n",
       "      <th>2016-05</th>\n",
       "      <th>2016-06</th>\n",
       "      <th>2016-07</th>\n",
       "      <th>2016-08</th>\n",
       "      <th>2016-09</th>\n",
       "    </tr>\n",
       "  </thead>\n",
       "  <tbody>\n",
       "    <tr>\n",
       "      <th>0</th>\n",
       "      <td>61639</td>\n",
       "      <td>10025</td>\n",
       "      <td>New York</td>\n",
       "      <td>NY</td>\n",
       "      <td>New York</td>\n",
       "      <td>New York</td>\n",
       "      <td>1</td>\n",
       "      <td>NaN</td>\n",
       "      <td>NaN</td>\n",
       "      <td>NaN</td>\n",
       "      <td>...</td>\n",
       "      <td>1072800</td>\n",
       "      <td>1072600</td>\n",
       "      <td>1088500</td>\n",
       "      <td>1103200</td>\n",
       "      <td>1093800</td>\n",
       "      <td>1067400</td>\n",
       "      <td>1046400</td>\n",
       "      <td>1028100</td>\n",
       "      <td>1013900</td>\n",
       "      <td>1004200</td>\n",
       "    </tr>\n",
       "    <tr>\n",
       "      <th>1</th>\n",
       "      <td>84654</td>\n",
       "      <td>60657</td>\n",
       "      <td>Chicago</td>\n",
       "      <td>IL</td>\n",
       "      <td>Chicago</td>\n",
       "      <td>Cook</td>\n",
       "      <td>2</td>\n",
       "      <td>146700.0</td>\n",
       "      <td>146500.0</td>\n",
       "      <td>146300.0</td>\n",
       "      <td>...</td>\n",
       "      <td>309400</td>\n",
       "      <td>309200</td>\n",
       "      <td>309100</td>\n",
       "      <td>310000</td>\n",
       "      <td>310600</td>\n",
       "      <td>310700</td>\n",
       "      <td>311100</td>\n",
       "      <td>313100</td>\n",
       "      <td>315800</td>\n",
       "      <td>318300</td>\n",
       "    </tr>\n",
       "    <tr>\n",
       "      <th>2</th>\n",
       "      <td>61637</td>\n",
       "      <td>10023</td>\n",
       "      <td>New York</td>\n",
       "      <td>NY</td>\n",
       "      <td>New York</td>\n",
       "      <td>New York</td>\n",
       "      <td>3</td>\n",
       "      <td>NaN</td>\n",
       "      <td>NaN</td>\n",
       "      <td>NaN</td>\n",
       "      <td>...</td>\n",
       "      <td>1118000</td>\n",
       "      <td>1128700</td>\n",
       "      <td>1113100</td>\n",
       "      <td>1084000</td>\n",
       "      <td>1074800</td>\n",
       "      <td>1054400</td>\n",
       "      <td>1026000</td>\n",
       "      <td>1014400</td>\n",
       "      <td>1024200</td>\n",
       "      <td>1032800</td>\n",
       "    </tr>\n",
       "    <tr>\n",
       "      <th>3</th>\n",
       "      <td>84616</td>\n",
       "      <td>60614</td>\n",
       "      <td>Chicago</td>\n",
       "      <td>IL</td>\n",
       "      <td>Chicago</td>\n",
       "      <td>Cook</td>\n",
       "      <td>4</td>\n",
       "      <td>198000.0</td>\n",
       "      <td>195500.0</td>\n",
       "      <td>194200.0</td>\n",
       "      <td>...</td>\n",
       "      <td>372800</td>\n",
       "      <td>375100</td>\n",
       "      <td>375300</td>\n",
       "      <td>376000</td>\n",
       "      <td>378500</td>\n",
       "      <td>379900</td>\n",
       "      <td>379500</td>\n",
       "      <td>380100</td>\n",
       "      <td>382400</td>\n",
       "      <td>385200</td>\n",
       "    </tr>\n",
       "    <tr>\n",
       "      <th>4</th>\n",
       "      <td>93144</td>\n",
       "      <td>79936</td>\n",
       "      <td>El Paso</td>\n",
       "      <td>TX</td>\n",
       "      <td>El Paso</td>\n",
       "      <td>El Paso</td>\n",
       "      <td>5</td>\n",
       "      <td>70800.0</td>\n",
       "      <td>71000.0</td>\n",
       "      <td>71000.0</td>\n",
       "      <td>...</td>\n",
       "      <td>109800</td>\n",
       "      <td>110000</td>\n",
       "      <td>110200</td>\n",
       "      <td>110500</td>\n",
       "      <td>111100</td>\n",
       "      <td>111200</td>\n",
       "      <td>111600</td>\n",
       "      <td>112600</td>\n",
       "      <td>113300</td>\n",
       "      <td>113600</td>\n",
       "    </tr>\n",
       "  </tbody>\n",
       "</table>\n",
       "<p>5 rows × 253 columns</p>\n",
       "</div>"
      ],
      "text/plain": [
       "   RegionID  RegionName      City State     Metro CountyName  SizeRank  \\\n",
       "0     61639       10025  New York    NY  New York   New York         1   \n",
       "1     84654       60657   Chicago    IL   Chicago       Cook         2   \n",
       "2     61637       10023  New York    NY  New York   New York         3   \n",
       "3     84616       60614   Chicago    IL   Chicago       Cook         4   \n",
       "4     93144       79936   El Paso    TX   El Paso    El Paso         5   \n",
       "\n",
       "    1996-04   1996-05   1996-06   ...     2015-12  2016-01  2016-02  2016-03  \\\n",
       "0       NaN       NaN       NaN   ...     1072800  1072600  1088500  1103200   \n",
       "1  146700.0  146500.0  146300.0   ...      309400   309200   309100   310000   \n",
       "2       NaN       NaN       NaN   ...     1118000  1128700  1113100  1084000   \n",
       "3  198000.0  195500.0  194200.0   ...      372800   375100   375300   376000   \n",
       "4   70800.0   71000.0   71000.0   ...      109800   110000   110200   110500   \n",
       "\n",
       "   2016-04  2016-05  2016-06  2016-07  2016-08  2016-09  \n",
       "0  1093800  1067400  1046400  1028100  1013900  1004200  \n",
       "1   310600   310700   311100   313100   315800   318300  \n",
       "2  1074800  1054400  1026000  1014400  1024200  1032800  \n",
       "3   378500   379900   379500   380100   382400   385200  \n",
       "4   111100   111200   111600   112600   113300   113600  \n",
       "\n",
       "[5 rows x 253 columns]"
      ]
     },
     "execution_count": 59,
     "metadata": {},
     "output_type": "execute_result"
    }
   ],
   "source": [
    "ml_reg.head()"
   ]
  },
  {
   "cell_type": "markdown",
   "metadata": {},
   "source": [
    "# We can get column names using pandas columns function"
   ]
  },
  {
   "cell_type": "code",
   "execution_count": 60,
   "metadata": {
    "collapsed": false
   },
   "outputs": [
    {
     "data": {
      "text/plain": [
       "Index(['RegionID', 'RegionName', 'City', 'State', 'Metro', 'CountyName',\n",
       "       'SizeRank', '1996-04', '1996-05', '1996-06',\n",
       "       ...\n",
       "       '2015-12', '2016-01', '2016-02', '2016-03', '2016-04', '2016-05',\n",
       "       '2016-06', '2016-07', '2016-08', '2016-09'],\n",
       "      dtype='object', length=253)"
      ]
     },
     "execution_count": 60,
     "metadata": {},
     "output_type": "execute_result"
    }
   ],
   "source": [
    "ml_reg.columns"
   ]
  },
  {
   "cell_type": "markdown",
   "metadata": {},
   "source": [
    "## Please note that the type is a dataframe as you will see below"
   ]
  },
  {
   "cell_type": "code",
   "execution_count": 61,
   "metadata": {
    "collapsed": false
   },
   "outputs": [
    {
     "data": {
      "text/plain": [
       "pandas.core.frame.DataFrame"
      ]
     },
     "execution_count": 61,
     "metadata": {},
     "output_type": "execute_result"
    }
   ],
   "source": [
    "type(ml_reg)"
   ]
  },
  {
   "cell_type": "markdown",
   "metadata": {},
   "source": [
    "# We can look at the zipcode 10025 for New York by selecting the first row(index)"
   ]
  },
  {
   "cell_type": "code",
   "execution_count": 62,
   "metadata": {
    "collapsed": false
   },
   "outputs": [
    {
     "data": {
      "text/plain": [
       "RegionID         61639\n",
       "RegionName       10025\n",
       "City          New York\n",
       "State               NY\n",
       "Metro         New York\n",
       "CountyName    New York\n",
       "SizeRank             1\n",
       "1996-04            NaN\n",
       "1996-05            NaN\n",
       "1996-06            NaN\n",
       "1996-07            NaN\n",
       "1996-08            NaN\n",
       "1996-09            NaN\n",
       "1996-10            NaN\n",
       "1996-11            NaN\n",
       "1996-12            NaN\n",
       "1997-01            NaN\n",
       "1997-02            NaN\n",
       "1997-03            NaN\n",
       "1997-04            NaN\n",
       "1997-05            NaN\n",
       "1997-06            NaN\n",
       "1997-07            NaN\n",
       "1997-08            NaN\n",
       "1997-09            NaN\n",
       "1997-10            NaN\n",
       "1997-11            NaN\n",
       "1997-12            NaN\n",
       "1998-01            NaN\n",
       "1998-02            NaN\n",
       "                ...   \n",
       "2014-04         901900\n",
       "2014-05         909200\n",
       "2014-06         913700\n",
       "2014-07         912300\n",
       "2014-08         909600\n",
       "2014-09         907600\n",
       "2014-10         910200\n",
       "2014-11         920900\n",
       "2014-12         931500\n",
       "2015-01         938800\n",
       "2015-02         939700\n",
       "2015-03         948900\n",
       "2015-04         961400\n",
       "2015-05         978200\n",
       "2015-06        1008500\n",
       "2015-07        1055100\n",
       "2015-08        1093100\n",
       "2015-09        1100900\n",
       "2015-10        1088100\n",
       "2015-11        1074400\n",
       "2015-12        1072800\n",
       "2016-01        1072600\n",
       "2016-02        1088500\n",
       "2016-03        1103200\n",
       "2016-04        1093800\n",
       "2016-05        1067400\n",
       "2016-06        1046400\n",
       "2016-07        1028100\n",
       "2016-08        1013900\n",
       "2016-09        1004200\n",
       "Name: 0, dtype: object"
      ]
     },
     "execution_count": 62,
     "metadata": {},
     "output_type": "execute_result"
    }
   ],
   "source": [
    "ml_reg.loc[0]"
   ]
  },
  {
   "cell_type": "markdown",
   "metadata": {},
   "source": [
    "# Let's get the mean (average) for Zipcode 10025, New York"
   ]
  },
  {
   "cell_type": "code",
   "execution_count": 63,
   "metadata": {
    "collapsed": false
   },
   "outputs": [
    {
     "data": {
      "text/html": [
       "<div>\n",
       "<table border=\"1\" class=\"dataframe\">\n",
       "  <thead>\n",
       "    <tr style=\"text-align: right;\">\n",
       "      <th></th>\n",
       "      <th>RegionID</th>\n",
       "      <th>RegionName</th>\n",
       "      <th>City</th>\n",
       "      <th>State</th>\n",
       "      <th>Metro</th>\n",
       "      <th>CountyName</th>\n",
       "      <th>SizeRank</th>\n",
       "      <th>1996-04</th>\n",
       "      <th>1996-05</th>\n",
       "      <th>1996-06</th>\n",
       "      <th>...</th>\n",
       "      <th>2015-12</th>\n",
       "      <th>2016-01</th>\n",
       "      <th>2016-02</th>\n",
       "      <th>2016-03</th>\n",
       "      <th>2016-04</th>\n",
       "      <th>2016-05</th>\n",
       "      <th>2016-06</th>\n",
       "      <th>2016-07</th>\n",
       "      <th>2016-08</th>\n",
       "      <th>2016-09</th>\n",
       "    </tr>\n",
       "  </thead>\n",
       "  <tbody>\n",
       "    <tr>\n",
       "      <th>0</th>\n",
       "      <td>61639</td>\n",
       "      <td>10025</td>\n",
       "      <td>New York</td>\n",
       "      <td>NY</td>\n",
       "      <td>New York</td>\n",
       "      <td>New York</td>\n",
       "      <td>1</td>\n",
       "      <td>NaN</td>\n",
       "      <td>NaN</td>\n",
       "      <td>NaN</td>\n",
       "      <td>...</td>\n",
       "      <td>1072800</td>\n",
       "      <td>1072600</td>\n",
       "      <td>1088500</td>\n",
       "      <td>1103200</td>\n",
       "      <td>1093800</td>\n",
       "      <td>1067400</td>\n",
       "      <td>1046400</td>\n",
       "      <td>1028100</td>\n",
       "      <td>1013900</td>\n",
       "      <td>1004200</td>\n",
       "    </tr>\n",
       "  </tbody>\n",
       "</table>\n",
       "<p>1 rows × 253 columns</p>\n",
       "</div>"
      ],
      "text/plain": [
       "   RegionID  RegionName      City State     Metro CountyName  SizeRank  \\\n",
       "0     61639       10025  New York    NY  New York   New York         1   \n",
       "\n",
       "   1996-04  1996-05  1996-06   ...     2015-12  2016-01  2016-02  2016-03  \\\n",
       "0      NaN      NaN      NaN   ...     1072800  1072600  1088500  1103200   \n",
       "\n",
       "   2016-04  2016-05  2016-06  2016-07  2016-08  2016-09  \n",
       "0  1093800  1067400  1046400  1028100  1013900  1004200  \n",
       "\n",
       "[1 rows x 253 columns]"
      ]
     },
     "execution_count": 63,
     "metadata": {},
     "output_type": "execute_result"
    }
   ],
   "source": [
    "ml_reg[ml_reg['RegionName']==10025]"
   ]
  },
  {
   "cell_type": "code",
   "execution_count": 64,
   "metadata": {
    "collapsed": false
   },
   "outputs": [
    {
     "data": {
      "text/plain": [
       "'The average home price is $804,557.14 for zipcode 10025'"
      ]
     },
     "execution_count": 64,
     "metadata": {},
     "output_type": "execute_result"
    }
   ],
   "source": [
    "ml_reg_mean = (ml_reg.loc[0][7:].mean())\n",
    "'The average home price is ${:,.2f}'.format(ml_reg_mean)+' for zipcode 10025'"
   ]
  },
  {
   "cell_type": "markdown",
   "metadata": {},
   "source": [
    "# How about a zipcode in Milwaukee, 53209"
   ]
  },
  {
   "cell_type": "code",
   "execution_count": 65,
   "metadata": {
    "collapsed": false
   },
   "outputs": [
    {
     "data": {
      "text/html": [
       "<div>\n",
       "<table border=\"1\" class=\"dataframe\">\n",
       "  <thead>\n",
       "    <tr style=\"text-align: right;\">\n",
       "      <th></th>\n",
       "      <th>RegionID</th>\n",
       "      <th>RegionName</th>\n",
       "      <th>City</th>\n",
       "      <th>State</th>\n",
       "      <th>Metro</th>\n",
       "      <th>CountyName</th>\n",
       "      <th>SizeRank</th>\n",
       "      <th>1996-04</th>\n",
       "      <th>1996-05</th>\n",
       "      <th>1996-06</th>\n",
       "      <th>...</th>\n",
       "      <th>2015-12</th>\n",
       "      <th>2016-01</th>\n",
       "      <th>2016-02</th>\n",
       "      <th>2016-03</th>\n",
       "      <th>2016-04</th>\n",
       "      <th>2016-05</th>\n",
       "      <th>2016-06</th>\n",
       "      <th>2016-07</th>\n",
       "      <th>2016-08</th>\n",
       "      <th>2016-09</th>\n",
       "    </tr>\n",
       "  </thead>\n",
       "  <tbody>\n",
       "    <tr>\n",
       "      <th>572</th>\n",
       "      <td>81289</td>\n",
       "      <td>53209</td>\n",
       "      <td>Milwaukee</td>\n",
       "      <td>WI</td>\n",
       "      <td>Milwaukee</td>\n",
       "      <td>Milwaukee</td>\n",
       "      <td>573</td>\n",
       "      <td>41400.0</td>\n",
       "      <td>41500.0</td>\n",
       "      <td>41400.0</td>\n",
       "      <td>...</td>\n",
       "      <td>56400</td>\n",
       "      <td>56500</td>\n",
       "      <td>56700</td>\n",
       "      <td>57100</td>\n",
       "      <td>57100</td>\n",
       "      <td>56400</td>\n",
       "      <td>55800</td>\n",
       "      <td>55600</td>\n",
       "      <td>55800</td>\n",
       "      <td>56100</td>\n",
       "    </tr>\n",
       "  </tbody>\n",
       "</table>\n",
       "<p>1 rows × 253 columns</p>\n",
       "</div>"
      ],
      "text/plain": [
       "     RegionID  RegionName       City State      Metro CountyName  SizeRank  \\\n",
       "572     81289       53209  Milwaukee    WI  Milwaukee  Milwaukee       573   \n",
       "\n",
       "     1996-04  1996-05  1996-06   ...     2015-12  2016-01  2016-02  2016-03  \\\n",
       "572  41400.0  41500.0  41400.0   ...       56400    56500    56700    57100   \n",
       "\n",
       "     2016-04  2016-05  2016-06  2016-07  2016-08  2016-09  \n",
       "572    57100    56400    55800    55600    55800    56100  \n",
       "\n",
       "[1 rows x 253 columns]"
      ]
     },
     "execution_count": 65,
     "metadata": {},
     "output_type": "execute_result"
    }
   ],
   "source": [
    "ml_reg[ml_reg['RegionName']==53209]"
   ]
  },
  {
   "cell_type": "markdown",
   "metadata": {},
   "source": [
    "## Note that pandas gives us the row# of 572"
   ]
  },
  {
   "cell_type": "code",
   "execution_count": 67,
   "metadata": {
    "collapsed": false
   },
   "outputs": [
    {
     "data": {
      "text/plain": [
       "'The average home price is $65,644.31 for zipcode 53209'"
      ]
     },
     "execution_count": 67,
     "metadata": {},
     "output_type": "execute_result"
    }
   ],
   "source": [
    "ml_reg_mean = (ml_reg.loc[572][7:].mean())\n",
    "ml_reg_zip = str(ml_reg.loc[572][1]) # Note that 1 is the column for zipcodes\n",
    "'The average home price is ${:,.2f}'.format(ml_reg_mean)+' for zipcode '+ml_reg_zip"
   ]
  },
  {
   "cell_type": "markdown",
   "metadata": {},
   "source": [
    "# Let's create a new dataframe with just the data we need to do our ML analysis"
   ]
  },
  {
   "cell_type": "code",
   "execution_count": 120,
   "metadata": {
    "collapsed": false
   },
   "outputs": [],
   "source": [
    "mke_reg = ml_reg[ml_reg['RegionName']==53209] #Change the zipcode to see different graph trends"
   ]
  },
  {
   "cell_type": "code",
   "execution_count": 121,
   "metadata": {
    "collapsed": false
   },
   "outputs": [
    {
     "name": "stdout",
     "output_type": "stream",
     "text": [
      "<class 'pandas.core.frame.DataFrame'>\n",
      "Int64Index: 1 entries, 572 to 572\n",
      "Columns: 253 entries, RegionID to 2016-09\n",
      "dtypes: float64(202), int64(47), object(4)\n",
      "memory usage: 2.0+ KB\n"
     ]
    }
   ],
   "source": [
    "mke_reg.info()"
   ]
  },
  {
   "cell_type": "code",
   "execution_count": 122,
   "metadata": {
    "collapsed": false
   },
   "outputs": [],
   "source": [
    "mke_housing_prices = mke_reg.iloc[0][7:]"
   ]
  },
  {
   "cell_type": "code",
   "execution_count": 123,
   "metadata": {
    "collapsed": false
   },
   "outputs": [
    {
     "data": {
      "text/plain": [
       "pandas.core.series.Series"
      ]
     },
     "execution_count": 123,
     "metadata": {},
     "output_type": "execute_result"
    }
   ],
   "source": [
    "type(mke_housing_prices)"
   ]
  },
  {
   "cell_type": "code",
   "execution_count": 124,
   "metadata": {
    "collapsed": false
   },
   "outputs": [],
   "source": [
    "year = []\n",
    "a = -1\n",
    "for i in mke_housing_prices.index:\n",
    "    a += 1\n",
    "    y = mke_housing_prices.index[a].split('-')[0]\n",
    "    year.append(y)\n",
    "#print(year)"
   ]
  },
  {
   "cell_type": "code",
   "execution_count": 125,
   "metadata": {
    "collapsed": false
   },
   "outputs": [
    {
     "data": {
      "text/plain": [
       "list"
      ]
     },
     "execution_count": 125,
     "metadata": {},
     "output_type": "execute_result"
    }
   ],
   "source": [
    "import datetime as dt\n",
    "from matplotlib.finance import date2num\n",
    "from dateutil.parser import parse\n",
    "periods = []\n",
    "for i in mke_housing_prices.index:\n",
    "    temp = parse(i).strftime('%m-%d-%Y')\n",
    "    temp = dt.datetime.strptime(temp, \"%m-%d-%Y\")\n",
    "    periods.append(temp)\n",
    "x_list = periods\n",
    "type(x_list)\n",
    "#print(periods) "
   ]
  },
  {
   "cell_type": "code",
   "execution_count": 126,
   "metadata": {
    "collapsed": false
   },
   "outputs": [
    {
     "data": {
      "text/plain": [
       "numpy.ndarray"
      ]
     },
     "execution_count": 126,
     "metadata": {},
     "output_type": "execute_result"
    }
   ],
   "source": [
    "x = np.asarray(x_list)\n",
    "x.size # 246\n",
    "type(x)"
   ]
  },
  {
   "cell_type": "code",
   "execution_count": 127,
   "metadata": {
    "collapsed": false
   },
   "outputs": [
    {
     "data": {
      "text/plain": [
       "numpy.ndarray"
      ]
     },
     "execution_count": 127,
     "metadata": {},
     "output_type": "execute_result"
    }
   ],
   "source": [
    "y = mke_housing_prices.values\n",
    "y.size # 246\n",
    "type(y) "
   ]
  },
  {
   "cell_type": "code",
   "execution_count": 128,
   "metadata": {
    "collapsed": false
   },
   "outputs": [
    {
     "data": {
      "text/plain": [
       "[<matplotlib.lines.Line2D at 0x121640e80>]"
      ]
     },
     "execution_count": 128,
     "metadata": {},
     "output_type": "execute_result"
    },
    {
     "data": {
      "image/png": "[encoded data removed]",
      "text/plain": [
       "<matplotlib.figure.Figure at 0x1214b7f60>"
      ]
     },
     "metadata": {},
     "output_type": "display_data"
    }
   ],
   "source": [
    "plt.plot(x, y)"
   ]
  },
  {
   "cell_type": "code",
   "execution_count": null,
   "metadata": {
    "collapsed": true
   },
   "outputs": [],
   "source": []
  },
  {
   "cell_type": "code",
   "execution_count": null,
   "metadata": {
    "collapsed": true
   },
   "outputs": [],
   "source": []
  }
 ],
 "metadata": {
  "anaconda-cloud": {},
  "kernelspec": {
   "display_name": "Python [Root]",
   "language": "python",
   "name": "Python [Root]"
  },
  "language_info": {
   "codemirror_mode": {
    "name": "ipython",
    "version": 3
   },
   "file_extension": ".py",
   "mimetype": "text/x-python",
   "name": "python",
   "nbconvert_exporter": "python",
   "pygments_lexer": "ipython3",
   "version": "3.5.2"
  }
 },
 "nbformat": 4,
 "nbformat_minor": 0
}
