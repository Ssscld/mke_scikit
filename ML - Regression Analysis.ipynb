{
 "cells": [
  {
   "cell_type": "markdown",
   "metadata": {},
   "source": [
    "# First let's import our data analysis libraries"
   ]
  },
  {
   "cell_type": "code",
   "execution_count": 2,
   "metadata": {
    "collapsed": true
   },
   "outputs": [],
   "source": [
    "import pandas as pd\n",
    "import numpy as np"
   ]
  },
  {
   "cell_type": "markdown",
   "metadata": {},
   "source": [
    "# Now our data visualization libraries"
   ]
  },
  {
   "cell_type": "code",
   "execution_count": 3,
   "metadata": {
    "collapsed": true
   },
   "outputs": [],
   "source": [
    "import matplotlib.pyplot as plt\n",
    "import seaborn as sns\n",
    "%matplotlib inline"
   ]
  },
  {
   "cell_type": "markdown",
   "metadata": {},
   "source": [
    "# Let's load our csv file using Pandas"
   ]
  },
  {
   "cell_type": "code",
   "execution_count": 4,
   "metadata": {
    "collapsed": true
   },
   "outputs": [],
   "source": [
    "ml_reg = pd.read_csv('zillow_allhomes.csv')"
   ]
  },
  {
   "cell_type": "markdown",
   "metadata": {},
   "source": [
    "# We can get a sense of our data by using some simple dataframe functions"
   ]
  },
  {
   "cell_type": "code",
   "execution_count": 5,
   "metadata": {
    "collapsed": false
   },
   "outputs": [
    {
     "name": "stdout",
     "output_type": "stream",
     "text": [
      "<class 'pandas.core.frame.DataFrame'>\n",
      "RangeIndex: 12481 entries, 0 to 12480\n",
      "Columns: 253 entries, RegionID to 2016-09\n",
      "dtypes: float64(202), int64(47), object(4)\n",
      "memory usage: 24.1+ MB\n"
     ]
    }
   ],
   "source": [
    "ml_reg.info()"
   ]
  },
  {
   "cell_type": "code",
   "execution_count": 6,
   "metadata": {
    "collapsed": false
   },
   "outputs": [
    {
     "name": "stderr",
     "output_type": "stream",
     "text": [
      "/Users/jacquescamier/anaconda/lib/python3.5/site-packages/numpy/lib/function_base.py:3834: RuntimeWarning: Invalid value encountered in percentile\n",
      "  RuntimeWarning)\n"
     ]
    },
    {
     "data": {
      "text/html": [
       "<div>\n",
       "<table border=\"1\" class=\"dataframe\">\n",
       "  <thead>\n",
       "    <tr style=\"text-align: right;\">\n",
       "      <th></th>\n",
       "      <th>RegionID</th>\n",
       "      <th>RegionName</th>\n",
       "      <th>SizeRank</th>\n",
       "      <th>1996-04</th>\n",
       "      <th>1996-05</th>\n",
       "      <th>1996-06</th>\n",
       "      <th>1996-07</th>\n",
       "      <th>1996-08</th>\n",
       "      <th>1996-09</th>\n",
       "      <th>1996-10</th>\n",
       "      <th>...</th>\n",
       "      <th>2015-12</th>\n",
       "      <th>2016-01</th>\n",
       "      <th>2016-02</th>\n",
       "      <th>2016-03</th>\n",
       "      <th>2016-04</th>\n",
       "      <th>2016-05</th>\n",
       "      <th>2016-06</th>\n",
       "      <th>2016-07</th>\n",
       "      <th>2016-08</th>\n",
       "      <th>2016-09</th>\n",
       "    </tr>\n",
       "  </thead>\n",
       "  <tbody>\n",
       "    <tr>\n",
       "      <th>count</th>\n",
       "      <td>12481.000000</td>\n",
       "      <td>12481.000000</td>\n",
       "      <td>12481.00000</td>\n",
       "      <td>9.479000e+03</td>\n",
       "      <td>9.596000e+03</td>\n",
       "      <td>9.618000e+03</td>\n",
       "      <td>9.620000e+03</td>\n",
       "      <td>9.632000e+03</td>\n",
       "      <td>9.632000e+03</td>\n",
       "      <td>9.632000e+03</td>\n",
       "      <td>...</td>\n",
       "      <td>1.248100e+04</td>\n",
       "      <td>1.248100e+04</td>\n",
       "      <td>1.248100e+04</td>\n",
       "      <td>1.248100e+04</td>\n",
       "      <td>1.248100e+04</td>\n",
       "      <td>1.248100e+04</td>\n",
       "      <td>1.248100e+04</td>\n",
       "      <td>1.248100e+04</td>\n",
       "      <td>1.248100e+04</td>\n",
       "      <td>1.248100e+04</td>\n",
       "    </tr>\n",
       "    <tr>\n",
       "      <th>mean</th>\n",
       "      <td>80411.474882</td>\n",
       "      <td>46186.903293</td>\n",
       "      <td>6241.00000</td>\n",
       "      <td>1.205052e+05</td>\n",
       "      <td>1.204896e+05</td>\n",
       "      <td>1.204974e+05</td>\n",
       "      <td>1.205789e+05</td>\n",
       "      <td>1.206743e+05</td>\n",
       "      <td>1.207999e+05</td>\n",
       "      <td>1.209790e+05</td>\n",
       "      <td>...</td>\n",
       "      <td>2.536400e+05</td>\n",
       "      <td>2.545099e+05</td>\n",
       "      <td>2.555217e+05</td>\n",
       "      <td>2.566992e+05</td>\n",
       "      <td>2.577561e+05</td>\n",
       "      <td>2.586168e+05</td>\n",
       "      <td>2.594235e+05</td>\n",
       "      <td>2.604256e+05</td>\n",
       "      <td>2.617457e+05</td>\n",
       "      <td>2.629272e+05</td>\n",
       "    </tr>\n",
       "    <tr>\n",
       "      <th>std</th>\n",
       "      <td>33188.052384</td>\n",
       "      <td>30425.214388</td>\n",
       "      <td>3603.09869</td>\n",
       "      <td>7.029296e+04</td>\n",
       "      <td>7.003150e+04</td>\n",
       "      <td>7.010103e+04</td>\n",
       "      <td>7.022980e+04</td>\n",
       "      <td>7.029980e+04</td>\n",
       "      <td>7.040037e+04</td>\n",
       "      <td>7.053627e+04</td>\n",
       "      <td>...</td>\n",
       "      <td>2.467275e+05</td>\n",
       "      <td>2.479438e+05</td>\n",
       "      <td>2.493234e+05</td>\n",
       "      <td>2.505403e+05</td>\n",
       "      <td>2.512693e+05</td>\n",
       "      <td>2.516297e+05</td>\n",
       "      <td>2.519178e+05</td>\n",
       "      <td>2.524270e+05</td>\n",
       "      <td>2.529529e+05</td>\n",
       "      <td>2.533642e+05</td>\n",
       "    </tr>\n",
       "    <tr>\n",
       "      <th>min</th>\n",
       "      <td>58196.000000</td>\n",
       "      <td>1001.000000</td>\n",
       "      <td>1.00000</td>\n",
       "      <td>2.170000e+04</td>\n",
       "      <td>2.170000e+04</td>\n",
       "      <td>2.200000e+04</td>\n",
       "      <td>2.220000e+04</td>\n",
       "      <td>2.270000e+04</td>\n",
       "      <td>2.320000e+04</td>\n",
       "      <td>2.360000e+04</td>\n",
       "      <td>...</td>\n",
       "      <td>3.060000e+04</td>\n",
       "      <td>3.060000e+04</td>\n",
       "      <td>3.070000e+04</td>\n",
       "      <td>3.050000e+04</td>\n",
       "      <td>3.020000e+04</td>\n",
       "      <td>3.000000e+04</td>\n",
       "      <td>3.030000e+04</td>\n",
       "      <td>3.070000e+04</td>\n",
       "      <td>3.090000e+04</td>\n",
       "      <td>3.130000e+04</td>\n",
       "    </tr>\n",
       "    <tr>\n",
       "      <th>25%</th>\n",
       "      <td>65811.000000</td>\n",
       "      <td>19135.000000</td>\n",
       "      <td>3121.00000</td>\n",
       "      <td>NaN</td>\n",
       "      <td>NaN</td>\n",
       "      <td>NaN</td>\n",
       "      <td>NaN</td>\n",
       "      <td>NaN</td>\n",
       "      <td>NaN</td>\n",
       "      <td>NaN</td>\n",
       "      <td>...</td>\n",
       "      <td>1.253000e+05</td>\n",
       "      <td>1.255000e+05</td>\n",
       "      <td>1.257000e+05</td>\n",
       "      <td>1.262000e+05</td>\n",
       "      <td>1.267000e+05</td>\n",
       "      <td>1.271000e+05</td>\n",
       "      <td>1.276000e+05</td>\n",
       "      <td>1.280000e+05</td>\n",
       "      <td>1.289000e+05</td>\n",
       "      <td>1.296000e+05</td>\n",
       "    </tr>\n",
       "    <tr>\n",
       "      <th>50%</th>\n",
       "      <td>75862.000000</td>\n",
       "      <td>40223.000000</td>\n",
       "      <td>6241.00000</td>\n",
       "      <td>NaN</td>\n",
       "      <td>NaN</td>\n",
       "      <td>NaN</td>\n",
       "      <td>NaN</td>\n",
       "      <td>NaN</td>\n",
       "      <td>NaN</td>\n",
       "      <td>NaN</td>\n",
       "      <td>...</td>\n",
       "      <td>1.819000e+05</td>\n",
       "      <td>1.826000e+05</td>\n",
       "      <td>1.831000e+05</td>\n",
       "      <td>1.840000e+05</td>\n",
       "      <td>1.848000e+05</td>\n",
       "      <td>1.855000e+05</td>\n",
       "      <td>1.864000e+05</td>\n",
       "      <td>1.872000e+05</td>\n",
       "      <td>1.885000e+05</td>\n",
       "      <td>1.897000e+05</td>\n",
       "    </tr>\n",
       "    <tr>\n",
       "      <th>75%</th>\n",
       "      <td>90759.000000</td>\n",
       "      <td>75077.000000</td>\n",
       "      <td>9361.00000</td>\n",
       "      <td>NaN</td>\n",
       "      <td>NaN</td>\n",
       "      <td>NaN</td>\n",
       "      <td>NaN</td>\n",
       "      <td>NaN</td>\n",
       "      <td>NaN</td>\n",
       "      <td>NaN</td>\n",
       "      <td>...</td>\n",
       "      <td>2.927000e+05</td>\n",
       "      <td>2.943000e+05</td>\n",
       "      <td>2.958000e+05</td>\n",
       "      <td>2.972000e+05</td>\n",
       "      <td>2.987000e+05</td>\n",
       "      <td>2.993000e+05</td>\n",
       "      <td>3.003000e+05</td>\n",
       "      <td>3.020000e+05</td>\n",
       "      <td>3.042000e+05</td>\n",
       "      <td>3.061000e+05</td>\n",
       "    </tr>\n",
       "    <tr>\n",
       "      <th>max</th>\n",
       "      <td>738092.000000</td>\n",
       "      <td>99901.000000</td>\n",
       "      <td>12481.00000</td>\n",
       "      <td>1.743500e+06</td>\n",
       "      <td>1.745200e+06</td>\n",
       "      <td>1.744300e+06</td>\n",
       "      <td>1.741300e+06</td>\n",
       "      <td>1.739700e+06</td>\n",
       "      <td>1.741300e+06</td>\n",
       "      <td>1.744500e+06</td>\n",
       "      <td>...</td>\n",
       "      <td>6.053400e+06</td>\n",
       "      <td>6.105200e+06</td>\n",
       "      <td>6.154300e+06</td>\n",
       "      <td>6.185800e+06</td>\n",
       "      <td>6.207100e+06</td>\n",
       "      <td>6.220800e+06</td>\n",
       "      <td>6.191400e+06</td>\n",
       "      <td>6.155500e+06</td>\n",
       "      <td>6.126100e+06</td>\n",
       "      <td>6.108000e+06</td>\n",
       "    </tr>\n",
       "  </tbody>\n",
       "</table>\n",
       "<p>8 rows × 249 columns</p>\n",
       "</div>"
      ],
      "text/plain": [
       "            RegionID    RegionName     SizeRank       1996-04       1996-05  \\\n",
       "count   12481.000000  12481.000000  12481.00000  9.479000e+03  9.596000e+03   \n",
       "mean    80411.474882  46186.903293   6241.00000  1.205052e+05  1.204896e+05   \n",
       "std     33188.052384  30425.214388   3603.09869  7.029296e+04  7.003150e+04   \n",
       "min     58196.000000   1001.000000      1.00000  2.170000e+04  2.170000e+04   \n",
       "25%     65811.000000  19135.000000   3121.00000           NaN           NaN   \n",
       "50%     75862.000000  40223.000000   6241.00000           NaN           NaN   \n",
       "75%     90759.000000  75077.000000   9361.00000           NaN           NaN   \n",
       "max    738092.000000  99901.000000  12481.00000  1.743500e+06  1.745200e+06   \n",
       "\n",
       "            1996-06       1996-07       1996-08       1996-09       1996-10  \\\n",
       "count  9.618000e+03  9.620000e+03  9.632000e+03  9.632000e+03  9.632000e+03   \n",
       "mean   1.204974e+05  1.205789e+05  1.206743e+05  1.207999e+05  1.209790e+05   \n",
       "std    7.010103e+04  7.022980e+04  7.029980e+04  7.040037e+04  7.053627e+04   \n",
       "min    2.200000e+04  2.220000e+04  2.270000e+04  2.320000e+04  2.360000e+04   \n",
       "25%             NaN           NaN           NaN           NaN           NaN   \n",
       "50%             NaN           NaN           NaN           NaN           NaN   \n",
       "75%             NaN           NaN           NaN           NaN           NaN   \n",
       "max    1.744300e+06  1.741300e+06  1.739700e+06  1.741300e+06  1.744500e+06   \n",
       "\n",
       "           ...            2015-12       2016-01       2016-02       2016-03  \\\n",
       "count      ...       1.248100e+04  1.248100e+04  1.248100e+04  1.248100e+04   \n",
       "mean       ...       2.536400e+05  2.545099e+05  2.555217e+05  2.566992e+05   \n",
       "std        ...       2.467275e+05  2.479438e+05  2.493234e+05  2.505403e+05   \n",
       "min        ...       3.060000e+04  3.060000e+04  3.070000e+04  3.050000e+04   \n",
       "25%        ...       1.253000e+05  1.255000e+05  1.257000e+05  1.262000e+05   \n",
       "50%        ...       1.819000e+05  1.826000e+05  1.831000e+05  1.840000e+05   \n",
       "75%        ...       2.927000e+05  2.943000e+05  2.958000e+05  2.972000e+05   \n",
       "max        ...       6.053400e+06  6.105200e+06  6.154300e+06  6.185800e+06   \n",
       "\n",
       "            2016-04       2016-05       2016-06       2016-07       2016-08  \\\n",
       "count  1.248100e+04  1.248100e+04  1.248100e+04  1.248100e+04  1.248100e+04   \n",
       "mean   2.577561e+05  2.586168e+05  2.594235e+05  2.604256e+05  2.617457e+05   \n",
       "std    2.512693e+05  2.516297e+05  2.519178e+05  2.524270e+05  2.529529e+05   \n",
       "min    3.020000e+04  3.000000e+04  3.030000e+04  3.070000e+04  3.090000e+04   \n",
       "25%    1.267000e+05  1.271000e+05  1.276000e+05  1.280000e+05  1.289000e+05   \n",
       "50%    1.848000e+05  1.855000e+05  1.864000e+05  1.872000e+05  1.885000e+05   \n",
       "75%    2.987000e+05  2.993000e+05  3.003000e+05  3.020000e+05  3.042000e+05   \n",
       "max    6.207100e+06  6.220800e+06  6.191400e+06  6.155500e+06  6.126100e+06   \n",
       "\n",
       "            2016-09  \n",
       "count  1.248100e+04  \n",
       "mean   2.629272e+05  \n",
       "std    2.533642e+05  \n",
       "min    3.130000e+04  \n",
       "25%    1.296000e+05  \n",
       "50%    1.897000e+05  \n",
       "75%    3.061000e+05  \n",
       "max    6.108000e+06  \n",
       "\n",
       "[8 rows x 249 columns]"
      ]
     },
     "execution_count": 6,
     "metadata": {},
     "output_type": "execute_result"
    }
   ],
   "source": [
    "ml_reg.describe()"
   ]
  },
  {
   "cell_type": "code",
   "execution_count": 7,
   "metadata": {
    "collapsed": false
   },
   "outputs": [
    {
     "data": {
      "text/html": [
       "<div>\n",
       "<table border=\"1\" class=\"dataframe\">\n",
       "  <thead>\n",
       "    <tr style=\"text-align: right;\">\n",
       "      <th></th>\n",
       "      <th>RegionID</th>\n",
       "      <th>RegionName</th>\n",
       "      <th>City</th>\n",
       "      <th>State</th>\n",
       "      <th>Metro</th>\n",
       "      <th>CountyName</th>\n",
       "      <th>SizeRank</th>\n",
       "      <th>1996-04</th>\n",
       "      <th>1996-05</th>\n",
       "      <th>1996-06</th>\n",
       "      <th>...</th>\n",
       "      <th>2015-12</th>\n",
       "      <th>2016-01</th>\n",
       "      <th>2016-02</th>\n",
       "      <th>2016-03</th>\n",
       "      <th>2016-04</th>\n",
       "      <th>2016-05</th>\n",
       "      <th>2016-06</th>\n",
       "      <th>2016-07</th>\n",
       "      <th>2016-08</th>\n",
       "      <th>2016-09</th>\n",
       "    </tr>\n",
       "  </thead>\n",
       "  <tbody>\n",
       "    <tr>\n",
       "      <th>0</th>\n",
       "      <td>61639</td>\n",
       "      <td>10025</td>\n",
       "      <td>New York</td>\n",
       "      <td>NY</td>\n",
       "      <td>New York</td>\n",
       "      <td>New York</td>\n",
       "      <td>1</td>\n",
       "      <td>NaN</td>\n",
       "      <td>NaN</td>\n",
       "      <td>NaN</td>\n",
       "      <td>...</td>\n",
       "      <td>1072800</td>\n",
       "      <td>1072600</td>\n",
       "      <td>1088500</td>\n",
       "      <td>1103200</td>\n",
       "      <td>1093800</td>\n",
       "      <td>1067400</td>\n",
       "      <td>1046400</td>\n",
       "      <td>1028100</td>\n",
       "      <td>1013900</td>\n",
       "      <td>1004200</td>\n",
       "    </tr>\n",
       "    <tr>\n",
       "      <th>1</th>\n",
       "      <td>84654</td>\n",
       "      <td>60657</td>\n",
       "      <td>Chicago</td>\n",
       "      <td>IL</td>\n",
       "      <td>Chicago</td>\n",
       "      <td>Cook</td>\n",
       "      <td>2</td>\n",
       "      <td>146700.0</td>\n",
       "      <td>146500.0</td>\n",
       "      <td>146300.0</td>\n",
       "      <td>...</td>\n",
       "      <td>309400</td>\n",
       "      <td>309200</td>\n",
       "      <td>309100</td>\n",
       "      <td>310000</td>\n",
       "      <td>310600</td>\n",
       "      <td>310700</td>\n",
       "      <td>311100</td>\n",
       "      <td>313100</td>\n",
       "      <td>315800</td>\n",
       "      <td>318300</td>\n",
       "    </tr>\n",
       "    <tr>\n",
       "      <th>2</th>\n",
       "      <td>61637</td>\n",
       "      <td>10023</td>\n",
       "      <td>New York</td>\n",
       "      <td>NY</td>\n",
       "      <td>New York</td>\n",
       "      <td>New York</td>\n",
       "      <td>3</td>\n",
       "      <td>NaN</td>\n",
       "      <td>NaN</td>\n",
       "      <td>NaN</td>\n",
       "      <td>...</td>\n",
       "      <td>1118000</td>\n",
       "      <td>1128700</td>\n",
       "      <td>1113100</td>\n",
       "      <td>1084000</td>\n",
       "      <td>1074800</td>\n",
       "      <td>1054400</td>\n",
       "      <td>1026000</td>\n",
       "      <td>1014400</td>\n",
       "      <td>1024200</td>\n",
       "      <td>1032800</td>\n",
       "    </tr>\n",
       "    <tr>\n",
       "      <th>3</th>\n",
       "      <td>84616</td>\n",
       "      <td>60614</td>\n",
       "      <td>Chicago</td>\n",
       "      <td>IL</td>\n",
       "      <td>Chicago</td>\n",
       "      <td>Cook</td>\n",
       "      <td>4</td>\n",
       "      <td>198000.0</td>\n",
       "      <td>195500.0</td>\n",
       "      <td>194200.0</td>\n",
       "      <td>...</td>\n",
       "      <td>372800</td>\n",
       "      <td>375100</td>\n",
       "      <td>375300</td>\n",
       "      <td>376000</td>\n",
       "      <td>378500</td>\n",
       "      <td>379900</td>\n",
       "      <td>379500</td>\n",
       "      <td>380100</td>\n",
       "      <td>382400</td>\n",
       "      <td>385200</td>\n",
       "    </tr>\n",
       "    <tr>\n",
       "      <th>4</th>\n",
       "      <td>93144</td>\n",
       "      <td>79936</td>\n",
       "      <td>El Paso</td>\n",
       "      <td>TX</td>\n",
       "      <td>El Paso</td>\n",
       "      <td>El Paso</td>\n",
       "      <td>5</td>\n",
       "      <td>70800.0</td>\n",
       "      <td>71000.0</td>\n",
       "      <td>71000.0</td>\n",
       "      <td>...</td>\n",
       "      <td>109800</td>\n",
       "      <td>110000</td>\n",
       "      <td>110200</td>\n",
       "      <td>110500</td>\n",
       "      <td>111100</td>\n",
       "      <td>111200</td>\n",
       "      <td>111600</td>\n",
       "      <td>112600</td>\n",
       "      <td>113300</td>\n",
       "      <td>113600</td>\n",
       "    </tr>\n",
       "  </tbody>\n",
       "</table>\n",
       "<p>5 rows × 253 columns</p>\n",
       "</div>"
      ],
      "text/plain": [
       "   RegionID  RegionName      City State     Metro CountyName  SizeRank  \\\n",
       "0     61639       10025  New York    NY  New York   New York         1   \n",
       "1     84654       60657   Chicago    IL   Chicago       Cook         2   \n",
       "2     61637       10023  New York    NY  New York   New York         3   \n",
       "3     84616       60614   Chicago    IL   Chicago       Cook         4   \n",
       "4     93144       79936   El Paso    TX   El Paso    El Paso         5   \n",
       "\n",
       "    1996-04   1996-05   1996-06   ...     2015-12  2016-01  2016-02  2016-03  \\\n",
       "0       NaN       NaN       NaN   ...     1072800  1072600  1088500  1103200   \n",
       "1  146700.0  146500.0  146300.0   ...      309400   309200   309100   310000   \n",
       "2       NaN       NaN       NaN   ...     1118000  1128700  1113100  1084000   \n",
       "3  198000.0  195500.0  194200.0   ...      372800   375100   375300   376000   \n",
       "4   70800.0   71000.0   71000.0   ...      109800   110000   110200   110500   \n",
       "\n",
       "   2016-04  2016-05  2016-06  2016-07  2016-08  2016-09  \n",
       "0  1093800  1067400  1046400  1028100  1013900  1004200  \n",
       "1   310600   310700   311100   313100   315800   318300  \n",
       "2  1074800  1054400  1026000  1014400  1024200  1032800  \n",
       "3   378500   379900   379500   380100   382400   385200  \n",
       "4   111100   111200   111600   112600   113300   113600  \n",
       "\n",
       "[5 rows x 253 columns]"
      ]
     },
     "execution_count": 7,
     "metadata": {},
     "output_type": "execute_result"
    }
   ],
   "source": [
    "ml_reg.head()"
   ]
  },
  {
   "cell_type": "markdown",
   "metadata": {},
   "source": [
    "# We can get column names using pandas columns function"
   ]
  },
  {
   "cell_type": "code",
   "execution_count": 8,
   "metadata": {
    "collapsed": false
   },
   "outputs": [
    {
     "data": {
      "text/plain": [
       "Index(['RegionID', 'RegionName', 'City', 'State', 'Metro', 'CountyName',\n",
       "       'SizeRank', '1996-04', '1996-05', '1996-06',\n",
       "       ...\n",
       "       '2015-12', '2016-01', '2016-02', '2016-03', '2016-04', '2016-05',\n",
       "       '2016-06', '2016-07', '2016-08', '2016-09'],\n",
       "      dtype='object', length=253)"
      ]
     },
     "execution_count": 8,
     "metadata": {},
     "output_type": "execute_result"
    }
   ],
   "source": [
    "ml_reg.columns"
   ]
  },
  {
   "cell_type": "markdown",
   "metadata": {},
   "source": [
    "## Please note that the type is a dataframe as you will see below"
   ]
  },
  {
   "cell_type": "code",
   "execution_count": 9,
   "metadata": {
    "collapsed": false
   },
   "outputs": [
    {
     "data": {
      "text/plain": [
       "pandas.core.frame.DataFrame"
      ]
     },
     "execution_count": 9,
     "metadata": {},
     "output_type": "execute_result"
    }
   ],
   "source": [
    "type(ml_reg)"
   ]
  },
  {
   "cell_type": "markdown",
   "metadata": {},
   "source": [
    "# We can look at the zipcode 10025 for New York by selecting the first row(index)"
   ]
  },
  {
   "cell_type": "code",
   "execution_count": 10,
   "metadata": {
    "collapsed": false
   },
   "outputs": [
    {
     "data": {
      "text/plain": [
       "RegionID         61639\n",
       "RegionName       10025\n",
       "City          New York\n",
       "State               NY\n",
       "Metro         New York\n",
       "CountyName    New York\n",
       "SizeRank             1\n",
       "1996-04            NaN\n",
       "1996-05            NaN\n",
       "1996-06            NaN\n",
       "1996-07            NaN\n",
       "1996-08            NaN\n",
       "1996-09            NaN\n",
       "1996-10            NaN\n",
       "1996-11            NaN\n",
       "1996-12            NaN\n",
       "1997-01            NaN\n",
       "1997-02            NaN\n",
       "1997-03            NaN\n",
       "1997-04            NaN\n",
       "1997-05            NaN\n",
       "1997-06            NaN\n",
       "1997-07            NaN\n",
       "1997-08            NaN\n",
       "1997-09            NaN\n",
       "1997-10            NaN\n",
       "1997-11            NaN\n",
       "1997-12            NaN\n",
       "1998-01            NaN\n",
       "1998-02            NaN\n",
       "                ...   \n",
       "2014-04         901900\n",
       "2014-05         909200\n",
       "2014-06         913700\n",
       "2014-07         912300\n",
       "2014-08         909600\n",
       "2014-09         907600\n",
       "2014-10         910200\n",
       "2014-11         920900\n",
       "2014-12         931500\n",
       "2015-01         938800\n",
       "2015-02         939700\n",
       "2015-03         948900\n",
       "2015-04         961400\n",
       "2015-05         978200\n",
       "2015-06        1008500\n",
       "2015-07        1055100\n",
       "2015-08        1093100\n",
       "2015-09        1100900\n",
       "2015-10        1088100\n",
       "2015-11        1074400\n",
       "2015-12        1072800\n",
       "2016-01        1072600\n",
       "2016-02        1088500\n",
       "2016-03        1103200\n",
       "2016-04        1093800\n",
       "2016-05        1067400\n",
       "2016-06        1046400\n",
       "2016-07        1028100\n",
       "2016-08        1013900\n",
       "2016-09        1004200\n",
       "Name: 0, dtype: object"
      ]
     },
     "execution_count": 10,
     "metadata": {},
     "output_type": "execute_result"
    }
   ],
   "source": [
    "ml_reg.loc[0]"
   ]
  },
  {
   "cell_type": "markdown",
   "metadata": {},
   "source": [
    "# Let's get the mean (average) for Zipcode 10025, New York"
   ]
  },
  {
   "cell_type": "code",
   "execution_count": 82,
   "metadata": {
    "collapsed": false
   },
   "outputs": [
    {
     "data": {
      "text/html": [
       "<div>\n",
       "<table border=\"1\" class=\"dataframe\">\n",
       "  <thead>\n",
       "    <tr style=\"text-align: right;\">\n",
       "      <th></th>\n",
       "      <th>RegionID</th>\n",
       "      <th>RegionName</th>\n",
       "      <th>City</th>\n",
       "      <th>State</th>\n",
       "      <th>Metro</th>\n",
       "      <th>CountyName</th>\n",
       "      <th>SizeRank</th>\n",
       "      <th>1996-04</th>\n",
       "      <th>1996-05</th>\n",
       "      <th>1996-06</th>\n",
       "      <th>...</th>\n",
       "      <th>2015-12</th>\n",
       "      <th>2016-01</th>\n",
       "      <th>2016-02</th>\n",
       "      <th>2016-03</th>\n",
       "      <th>2016-04</th>\n",
       "      <th>2016-05</th>\n",
       "      <th>2016-06</th>\n",
       "      <th>2016-07</th>\n",
       "      <th>2016-08</th>\n",
       "      <th>2016-09</th>\n",
       "    </tr>\n",
       "  </thead>\n",
       "  <tbody>\n",
       "    <tr>\n",
       "      <th>0</th>\n",
       "      <td>61639</td>\n",
       "      <td>10025</td>\n",
       "      <td>New York</td>\n",
       "      <td>NY</td>\n",
       "      <td>New York</td>\n",
       "      <td>New York</td>\n",
       "      <td>1</td>\n",
       "      <td>NaN</td>\n",
       "      <td>NaN</td>\n",
       "      <td>NaN</td>\n",
       "      <td>...</td>\n",
       "      <td>1072800</td>\n",
       "      <td>1072600</td>\n",
       "      <td>1088500</td>\n",
       "      <td>1103200</td>\n",
       "      <td>1093800</td>\n",
       "      <td>1067400</td>\n",
       "      <td>1046400</td>\n",
       "      <td>1028100</td>\n",
       "      <td>1013900</td>\n",
       "      <td>1004200</td>\n",
       "    </tr>\n",
       "  </tbody>\n",
       "</table>\n",
       "<p>1 rows × 253 columns</p>\n",
       "</div>"
      ],
      "text/plain": [
       "   RegionID  RegionName      City State     Metro CountyName  SizeRank  \\\n",
       "0     61639       10025  New York    NY  New York   New York         1   \n",
       "\n",
       "   1996-04  1996-05  1996-06   ...     2015-12  2016-01  2016-02  2016-03  \\\n",
       "0      NaN      NaN      NaN   ...     1072800  1072600  1088500  1103200   \n",
       "\n",
       "   2016-04  2016-05  2016-06  2016-07  2016-08  2016-09  \n",
       "0  1093800  1067400  1046400  1028100  1013900  1004200  \n",
       "\n",
       "[1 rows x 253 columns]"
      ]
     },
     "execution_count": 82,
     "metadata": {},
     "output_type": "execute_result"
    }
   ],
   "source": [
    "ml_reg[ml_reg['RegionName']==10025]"
   ]
  },
  {
   "cell_type": "code",
   "execution_count": 83,
   "metadata": {
    "collapsed": false
   },
   "outputs": [
    {
     "data": {
      "text/plain": [
       "'The average home price is $804,557.14 for zipcode 10025'"
      ]
     },
     "execution_count": 83,
     "metadata": {},
     "output_type": "execute_result"
    }
   ],
   "source": [
    "ml_reg_mean = (ml_reg.loc[0][7:].mean())\n",
    "'The average home price is ${:,.2f}'.format(ml_reg_mean)+' for zipcode 10025'"
   ]
  },
  {
   "cell_type": "markdown",
   "metadata": {},
   "source": [
    "# How about a zipcode in Milwaukee, 53209"
   ]
  },
  {
   "cell_type": "code",
   "execution_count": 84,
   "metadata": {
    "collapsed": false
   },
   "outputs": [
    {
     "data": {
      "text/html": [
       "<div>\n",
       "<table border=\"1\" class=\"dataframe\">\n",
       "  <thead>\n",
       "    <tr style=\"text-align: right;\">\n",
       "      <th></th>\n",
       "      <th>RegionID</th>\n",
       "      <th>RegionName</th>\n",
       "      <th>City</th>\n",
       "      <th>State</th>\n",
       "      <th>Metro</th>\n",
       "      <th>CountyName</th>\n",
       "      <th>SizeRank</th>\n",
       "      <th>1996-04</th>\n",
       "      <th>1996-05</th>\n",
       "      <th>1996-06</th>\n",
       "      <th>...</th>\n",
       "      <th>2015-12</th>\n",
       "      <th>2016-01</th>\n",
       "      <th>2016-02</th>\n",
       "      <th>2016-03</th>\n",
       "      <th>2016-04</th>\n",
       "      <th>2016-05</th>\n",
       "      <th>2016-06</th>\n",
       "      <th>2016-07</th>\n",
       "      <th>2016-08</th>\n",
       "      <th>2016-09</th>\n",
       "    </tr>\n",
       "  </thead>\n",
       "  <tbody>\n",
       "    <tr>\n",
       "      <th>572</th>\n",
       "      <td>81289</td>\n",
       "      <td>53209</td>\n",
       "      <td>Milwaukee</td>\n",
       "      <td>WI</td>\n",
       "      <td>Milwaukee</td>\n",
       "      <td>Milwaukee</td>\n",
       "      <td>573</td>\n",
       "      <td>41400.0</td>\n",
       "      <td>41500.0</td>\n",
       "      <td>41400.0</td>\n",
       "      <td>...</td>\n",
       "      <td>56400</td>\n",
       "      <td>56500</td>\n",
       "      <td>56700</td>\n",
       "      <td>57100</td>\n",
       "      <td>57100</td>\n",
       "      <td>56400</td>\n",
       "      <td>55800</td>\n",
       "      <td>55600</td>\n",
       "      <td>55800</td>\n",
       "      <td>56100</td>\n",
       "    </tr>\n",
       "  </tbody>\n",
       "</table>\n",
       "<p>1 rows × 253 columns</p>\n",
       "</div>"
      ],
      "text/plain": [
       "     RegionID  RegionName       City State      Metro CountyName  SizeRank  \\\n",
       "572     81289       53209  Milwaukee    WI  Milwaukee  Milwaukee       573   \n",
       "\n",
       "     1996-04  1996-05  1996-06   ...     2015-12  2016-01  2016-02  2016-03  \\\n",
       "572  41400.0  41500.0  41400.0   ...       56400    56500    56700    57100   \n",
       "\n",
       "     2016-04  2016-05  2016-06  2016-07  2016-08  2016-09  \n",
       "572    57100    56400    55800    55600    55800    56100  \n",
       "\n",
       "[1 rows x 253 columns]"
      ]
     },
     "execution_count": 84,
     "metadata": {},
     "output_type": "execute_result"
    }
   ],
   "source": [
    "ml_reg[ml_reg['RegionName']==53209]"
   ]
  },
  {
   "cell_type": "markdown",
   "metadata": {},
   "source": [
    "## Note that pandas gives us the row# of 572"
   ]
  },
  {
   "cell_type": "code",
   "execution_count": 85,
   "metadata": {
    "collapsed": false
   },
   "outputs": [
    {
     "data": {
      "text/plain": [
       "'The average home price is $65,644.31 for zipcode 53209'"
      ]
     },
     "execution_count": 85,
     "metadata": {},
     "output_type": "execute_result"
    }
   ],
   "source": [
    "ml_reg_mean = (ml_reg.loc[572][7:].mean())\n",
    "ml_reg_zip = str(ml_reg.loc[572][1]) # Note that 1 is the column for zipcodes\n",
    "'The average home price is ${:,.2f}'.format(ml_reg_mean)+' for zipcode '+ml_reg_zip"
   ]
  },
  {
   "cell_type": "markdown",
   "metadata": {},
   "source": [
    "# Let's create a new dataframe with just the data we need to do our ML analysis"
   ]
  },
  {
   "cell_type": "code",
   "execution_count": 86,
   "metadata": {
    "collapsed": false
   },
   "outputs": [],
   "source": [
    "mke_reg = ml_reg[ml_reg['RegionName']==53209] #Change the zipcode to see different graph trends"
   ]
  },
  {
   "cell_type": "code",
   "execution_count": 87,
   "metadata": {
    "collapsed": false
   },
   "outputs": [
    {
     "name": "stdout",
     "output_type": "stream",
     "text": [
      "<class 'pandas.core.frame.DataFrame'>\n",
      "Int64Index: 1 entries, 572 to 572\n",
      "Columns: 253 entries, RegionID to 2016-09\n",
      "dtypes: float64(202), int64(47), object(4)\n",
      "memory usage: 2.0+ KB\n"
     ]
    }
   ],
   "source": [
    "mke_reg.info()"
   ]
  },
  {
   "cell_type": "code",
   "execution_count": 88,
   "metadata": {
    "collapsed": false
   },
   "outputs": [],
   "source": [
    "mke_housing_prices = mke_reg.iloc[0][7:]"
   ]
  },
  {
   "cell_type": "code",
   "execution_count": 89,
   "metadata": {
    "collapsed": false
   },
   "outputs": [
    {
     "data": {
      "text/plain": [
       "pandas.core.series.Series"
      ]
     },
     "execution_count": 89,
     "metadata": {},
     "output_type": "execute_result"
    }
   ],
   "source": [
    "type(mke_housing_prices)"
   ]
  },
  {
   "cell_type": "code",
   "execution_count": 90,
   "metadata": {
    "collapsed": false
   },
   "outputs": [],
   "source": [
    "year = []\n",
    "a = -1\n",
    "for i in mke_housing_prices.index:\n",
    "    a += 1\n",
    "    y = mke_housing_prices.index[a].split('-')[0]\n",
    "    year.append(y)\n",
    "#print(year)"
   ]
  },
  {
   "cell_type": "code",
   "execution_count": 91,
   "metadata": {
    "collapsed": false
   },
   "outputs": [
    {
     "data": {
      "text/plain": [
       "list"
      ]
     },
     "execution_count": 91,
     "metadata": {},
     "output_type": "execute_result"
    }
   ],
   "source": [
    "import datetime as dt\n",
    "from matplotlib.finance import date2num\n",
    "from dateutil.parser import parse\n",
    "periods = []\n",
    "for i in mke_housing_prices.index:\n",
    "    temp = parse(i).strftime('%m-%d-%Y')\n",
    "    temp = dt.datetime.strptime(temp, \"%m-%d-%Y\")\n",
    "    periods.append(temp)\n",
    "x_list = periods\n",
    "type(x_list)\n",
    "#print(periods) "
   ]
  },
  {
   "cell_type": "code",
   "execution_count": 92,
   "metadata": {
    "collapsed": false
   },
   "outputs": [
    {
     "data": {
      "text/plain": [
       "numpy.ndarray"
      ]
     },
     "execution_count": 92,
     "metadata": {},
     "output_type": "execute_result"
    }
   ],
   "source": [
    "x = np.asarray(x_list)\n",
    "x.size # 246\n",
    "type(x)"
   ]
  },
  {
   "cell_type": "code",
   "execution_count": 93,
   "metadata": {
    "collapsed": false
   },
   "outputs": [
    {
     "data": {
      "text/plain": [
       "numpy.ndarray"
      ]
     },
     "execution_count": 93,
     "metadata": {},
     "output_type": "execute_result"
    }
   ],
   "source": [
    "y = mke_housing_prices.values\n",
    "y.size # 246\n",
    "type(y) "
   ]
  },
  {
   "cell_type": "code",
   "execution_count": 94,
   "metadata": {
    "collapsed": false
   },
   "outputs": [
    {
     "data": {
      "text/plain": [
       "[<matplotlib.lines.Line2D at 0x1211c80b8>]"
      ]
     },
     "execution_count": 94,
     "metadata": {},
     "output_type": "execute_result"
    },
    {
     "data": {
      "image/png": "[encoded data removed]",
      "text/plain": [
       "<matplotlib.figure.Figure at 0x1211c22e8>"
      ]
     },
     "metadata": {},
     "output_type": "display_data"
    }
   ],
   "source": [
    "plt.plot(x, y) # chart using Matplotlib"
   ]
  },
  {
   "cell_type": "code",
   "execution_count": 95,
   "metadata": {
    "collapsed": false
   },
   "outputs": [
    {
     "name": "stdout",
     "output_type": "stream",
     "text": [
      "<class 'pandas.core.frame.DataFrame'>\n",
      "RangeIndex: 12481 entries, 0 to 12480\n",
      "Columns: 253 entries, RegionID to 2016-09\n",
      "dtypes: float64(202), int64(47), object(4)\n",
      "memory usage: 24.1+ MB\n"
     ]
    }
   ],
   "source": [
    "ml_reg.info()"
   ]
  },
  {
   "cell_type": "code",
   "execution_count": 117,
   "metadata": {
    "collapsed": true
   },
   "outputs": [],
   "source": [
    "USAhousing = ml_reg"
   ]
  },
  {
   "cell_type": "code",
   "execution_count": 118,
   "metadata": {
    "collapsed": false
   },
   "outputs": [
    {
     "data": {
      "text/html": [
       "<div>\n",
       "<table border=\"1\" class=\"dataframe\">\n",
       "  <thead>\n",
       "    <tr style=\"text-align: right;\">\n",
       "      <th></th>\n",
       "      <th>RegionID</th>\n",
       "      <th>RegionName</th>\n",
       "      <th>City</th>\n",
       "      <th>State</th>\n",
       "      <th>Metro</th>\n",
       "      <th>CountyName</th>\n",
       "      <th>SizeRank</th>\n",
       "      <th>1996-04</th>\n",
       "      <th>1996-05</th>\n",
       "      <th>1996-06</th>\n",
       "      <th>...</th>\n",
       "      <th>2015-12</th>\n",
       "      <th>2016-01</th>\n",
       "      <th>2016-02</th>\n",
       "      <th>2016-03</th>\n",
       "      <th>2016-04</th>\n",
       "      <th>2016-05</th>\n",
       "      <th>2016-06</th>\n",
       "      <th>2016-07</th>\n",
       "      <th>2016-08</th>\n",
       "      <th>2016-09</th>\n",
       "    </tr>\n",
       "  </thead>\n",
       "  <tbody>\n",
       "    <tr>\n",
       "      <th>0</th>\n",
       "      <td>61639</td>\n",
       "      <td>10025</td>\n",
       "      <td>New York</td>\n",
       "      <td>NY</td>\n",
       "      <td>New York</td>\n",
       "      <td>New York</td>\n",
       "      <td>1</td>\n",
       "      <td>NaN</td>\n",
       "      <td>NaN</td>\n",
       "      <td>NaN</td>\n",
       "      <td>...</td>\n",
       "      <td>1072800</td>\n",
       "      <td>1072600</td>\n",
       "      <td>1088500</td>\n",
       "      <td>1103200</td>\n",
       "      <td>1093800</td>\n",
       "      <td>1067400</td>\n",
       "      <td>1046400</td>\n",
       "      <td>1028100</td>\n",
       "      <td>1013900</td>\n",
       "      <td>1004200</td>\n",
       "    </tr>\n",
       "    <tr>\n",
       "      <th>1</th>\n",
       "      <td>84654</td>\n",
       "      <td>60657</td>\n",
       "      <td>Chicago</td>\n",
       "      <td>IL</td>\n",
       "      <td>Chicago</td>\n",
       "      <td>Cook</td>\n",
       "      <td>2</td>\n",
       "      <td>146700.0</td>\n",
       "      <td>146500.0</td>\n",
       "      <td>146300.0</td>\n",
       "      <td>...</td>\n",
       "      <td>309400</td>\n",
       "      <td>309200</td>\n",
       "      <td>309100</td>\n",
       "      <td>310000</td>\n",
       "      <td>310600</td>\n",
       "      <td>310700</td>\n",
       "      <td>311100</td>\n",
       "      <td>313100</td>\n",
       "      <td>315800</td>\n",
       "      <td>318300</td>\n",
       "    </tr>\n",
       "    <tr>\n",
       "      <th>2</th>\n",
       "      <td>61637</td>\n",
       "      <td>10023</td>\n",
       "      <td>New York</td>\n",
       "      <td>NY</td>\n",
       "      <td>New York</td>\n",
       "      <td>New York</td>\n",
       "      <td>3</td>\n",
       "      <td>NaN</td>\n",
       "      <td>NaN</td>\n",
       "      <td>NaN</td>\n",
       "      <td>...</td>\n",
       "      <td>1118000</td>\n",
       "      <td>1128700</td>\n",
       "      <td>1113100</td>\n",
       "      <td>1084000</td>\n",
       "      <td>1074800</td>\n",
       "      <td>1054400</td>\n",
       "      <td>1026000</td>\n",
       "      <td>1014400</td>\n",
       "      <td>1024200</td>\n",
       "      <td>1032800</td>\n",
       "    </tr>\n",
       "    <tr>\n",
       "      <th>3</th>\n",
       "      <td>84616</td>\n",
       "      <td>60614</td>\n",
       "      <td>Chicago</td>\n",
       "      <td>IL</td>\n",
       "      <td>Chicago</td>\n",
       "      <td>Cook</td>\n",
       "      <td>4</td>\n",
       "      <td>198000.0</td>\n",
       "      <td>195500.0</td>\n",
       "      <td>194200.0</td>\n",
       "      <td>...</td>\n",
       "      <td>372800</td>\n",
       "      <td>375100</td>\n",
       "      <td>375300</td>\n",
       "      <td>376000</td>\n",
       "      <td>378500</td>\n",
       "      <td>379900</td>\n",
       "      <td>379500</td>\n",
       "      <td>380100</td>\n",
       "      <td>382400</td>\n",
       "      <td>385200</td>\n",
       "    </tr>\n",
       "    <tr>\n",
       "      <th>4</th>\n",
       "      <td>93144</td>\n",
       "      <td>79936</td>\n",
       "      <td>El Paso</td>\n",
       "      <td>TX</td>\n",
       "      <td>El Paso</td>\n",
       "      <td>El Paso</td>\n",
       "      <td>5</td>\n",
       "      <td>70800.0</td>\n",
       "      <td>71000.0</td>\n",
       "      <td>71000.0</td>\n",
       "      <td>...</td>\n",
       "      <td>109800</td>\n",
       "      <td>110000</td>\n",
       "      <td>110200</td>\n",
       "      <td>110500</td>\n",
       "      <td>111100</td>\n",
       "      <td>111200</td>\n",
       "      <td>111600</td>\n",
       "      <td>112600</td>\n",
       "      <td>113300</td>\n",
       "      <td>113600</td>\n",
       "    </tr>\n",
       "  </tbody>\n",
       "</table>\n",
       "<p>5 rows × 253 columns</p>\n",
       "</div>"
      ],
      "text/plain": [
       "   RegionID  RegionName      City State     Metro CountyName  SizeRank  \\\n",
       "0     61639       10025  New York    NY  New York   New York         1   \n",
       "1     84654       60657   Chicago    IL   Chicago       Cook         2   \n",
       "2     61637       10023  New York    NY  New York   New York         3   \n",
       "3     84616       60614   Chicago    IL   Chicago       Cook         4   \n",
       "4     93144       79936   El Paso    TX   El Paso    El Paso         5   \n",
       "\n",
       "    1996-04   1996-05   1996-06   ...     2015-12  2016-01  2016-02  2016-03  \\\n",
       "0       NaN       NaN       NaN   ...     1072800  1072600  1088500  1103200   \n",
       "1  146700.0  146500.0  146300.0   ...      309400   309200   309100   310000   \n",
       "2       NaN       NaN       NaN   ...     1118000  1128700  1113100  1084000   \n",
       "3  198000.0  195500.0  194200.0   ...      372800   375100   375300   376000   \n",
       "4   70800.0   71000.0   71000.0   ...      109800   110000   110200   110500   \n",
       "\n",
       "   2016-04  2016-05  2016-06  2016-07  2016-08  2016-09  \n",
       "0  1093800  1067400  1046400  1028100  1013900  1004200  \n",
       "1   310600   310700   311100   313100   315800   318300  \n",
       "2  1074800  1054400  1026000  1014400  1024200  1032800  \n",
       "3   378500   379900   379500   380100   382400   385200  \n",
       "4   111100   111200   111600   112600   113300   113600  \n",
       "\n",
       "[5 rows x 253 columns]"
      ]
     },
     "execution_count": 118,
     "metadata": {},
     "output_type": "execute_result"
    }
   ],
   "source": [
    "USAhousing.head()"
   ]
  },
  {
   "cell_type": "code",
   "execution_count": 119,
   "metadata": {
    "collapsed": false
   },
   "outputs": [
    {
     "name": "stderr",
     "output_type": "stream",
     "text": [
      "/Users/jacquescamier/anaconda/lib/python3.5/site-packages/numpy/lib/function_base.py:3834: RuntimeWarning: Invalid value encountered in percentile\n",
      "  RuntimeWarning)\n"
     ]
    },
    {
     "data": {
      "text/html": [
       "<div>\n",
       "<table border=\"1\" class=\"dataframe\">\n",
       "  <thead>\n",
       "    <tr style=\"text-align: right;\">\n",
       "      <th></th>\n",
       "      <th>RegionID</th>\n",
       "      <th>RegionName</th>\n",
       "      <th>SizeRank</th>\n",
       "      <th>1996-04</th>\n",
       "      <th>1996-05</th>\n",
       "      <th>1996-06</th>\n",
       "      <th>1996-07</th>\n",
       "      <th>1996-08</th>\n",
       "      <th>1996-09</th>\n",
       "      <th>1996-10</th>\n",
       "      <th>...</th>\n",
       "      <th>2015-12</th>\n",
       "      <th>2016-01</th>\n",
       "      <th>2016-02</th>\n",
       "      <th>2016-03</th>\n",
       "      <th>2016-04</th>\n",
       "      <th>2016-05</th>\n",
       "      <th>2016-06</th>\n",
       "      <th>2016-07</th>\n",
       "      <th>2016-08</th>\n",
       "      <th>2016-09</th>\n",
       "    </tr>\n",
       "  </thead>\n",
       "  <tbody>\n",
       "    <tr>\n",
       "      <th>count</th>\n",
       "      <td>12481.000000</td>\n",
       "      <td>12481.000000</td>\n",
       "      <td>12481.00000</td>\n",
       "      <td>9.479000e+03</td>\n",
       "      <td>9.596000e+03</td>\n",
       "      <td>9.618000e+03</td>\n",
       "      <td>9.620000e+03</td>\n",
       "      <td>9.632000e+03</td>\n",
       "      <td>9.632000e+03</td>\n",
       "      <td>9.632000e+03</td>\n",
       "      <td>...</td>\n",
       "      <td>1.248100e+04</td>\n",
       "      <td>1.248100e+04</td>\n",
       "      <td>1.248100e+04</td>\n",
       "      <td>1.248100e+04</td>\n",
       "      <td>1.248100e+04</td>\n",
       "      <td>1.248100e+04</td>\n",
       "      <td>1.248100e+04</td>\n",
       "      <td>1.248100e+04</td>\n",
       "      <td>1.248100e+04</td>\n",
       "      <td>1.248100e+04</td>\n",
       "    </tr>\n",
       "    <tr>\n",
       "      <th>mean</th>\n",
       "      <td>80411.474882</td>\n",
       "      <td>46186.903293</td>\n",
       "      <td>6241.00000</td>\n",
       "      <td>1.205052e+05</td>\n",
       "      <td>1.204896e+05</td>\n",
       "      <td>1.204974e+05</td>\n",
       "      <td>1.205789e+05</td>\n",
       "      <td>1.206743e+05</td>\n",
       "      <td>1.207999e+05</td>\n",
       "      <td>1.209790e+05</td>\n",
       "      <td>...</td>\n",
       "      <td>2.536400e+05</td>\n",
       "      <td>2.545099e+05</td>\n",
       "      <td>2.555217e+05</td>\n",
       "      <td>2.566992e+05</td>\n",
       "      <td>2.577561e+05</td>\n",
       "      <td>2.586168e+05</td>\n",
       "      <td>2.594235e+05</td>\n",
       "      <td>2.604256e+05</td>\n",
       "      <td>2.617457e+05</td>\n",
       "      <td>2.629272e+05</td>\n",
       "    </tr>\n",
       "    <tr>\n",
       "      <th>std</th>\n",
       "      <td>33188.052384</td>\n",
       "      <td>30425.214388</td>\n",
       "      <td>3603.09869</td>\n",
       "      <td>7.029296e+04</td>\n",
       "      <td>7.003150e+04</td>\n",
       "      <td>7.010103e+04</td>\n",
       "      <td>7.022980e+04</td>\n",
       "      <td>7.029980e+04</td>\n",
       "      <td>7.040037e+04</td>\n",
       "      <td>7.053627e+04</td>\n",
       "      <td>...</td>\n",
       "      <td>2.467275e+05</td>\n",
       "      <td>2.479438e+05</td>\n",
       "      <td>2.493234e+05</td>\n",
       "      <td>2.505403e+05</td>\n",
       "      <td>2.512693e+05</td>\n",
       "      <td>2.516297e+05</td>\n",
       "      <td>2.519178e+05</td>\n",
       "      <td>2.524270e+05</td>\n",
       "      <td>2.529529e+05</td>\n",
       "      <td>2.533642e+05</td>\n",
       "    </tr>\n",
       "    <tr>\n",
       "      <th>min</th>\n",
       "      <td>58196.000000</td>\n",
       "      <td>1001.000000</td>\n",
       "      <td>1.00000</td>\n",
       "      <td>2.170000e+04</td>\n",
       "      <td>2.170000e+04</td>\n",
       "      <td>2.200000e+04</td>\n",
       "      <td>2.220000e+04</td>\n",
       "      <td>2.270000e+04</td>\n",
       "      <td>2.320000e+04</td>\n",
       "      <td>2.360000e+04</td>\n",
       "      <td>...</td>\n",
       "      <td>3.060000e+04</td>\n",
       "      <td>3.060000e+04</td>\n",
       "      <td>3.070000e+04</td>\n",
       "      <td>3.050000e+04</td>\n",
       "      <td>3.020000e+04</td>\n",
       "      <td>3.000000e+04</td>\n",
       "      <td>3.030000e+04</td>\n",
       "      <td>3.070000e+04</td>\n",
       "      <td>3.090000e+04</td>\n",
       "      <td>3.130000e+04</td>\n",
       "    </tr>\n",
       "    <tr>\n",
       "      <th>25%</th>\n",
       "      <td>65811.000000</td>\n",
       "      <td>19135.000000</td>\n",
       "      <td>3121.00000</td>\n",
       "      <td>NaN</td>\n",
       "      <td>NaN</td>\n",
       "      <td>NaN</td>\n",
       "      <td>NaN</td>\n",
       "      <td>NaN</td>\n",
       "      <td>NaN</td>\n",
       "      <td>NaN</td>\n",
       "      <td>...</td>\n",
       "      <td>1.253000e+05</td>\n",
       "      <td>1.255000e+05</td>\n",
       "      <td>1.257000e+05</td>\n",
       "      <td>1.262000e+05</td>\n",
       "      <td>1.267000e+05</td>\n",
       "      <td>1.271000e+05</td>\n",
       "      <td>1.276000e+05</td>\n",
       "      <td>1.280000e+05</td>\n",
       "      <td>1.289000e+05</td>\n",
       "      <td>1.296000e+05</td>\n",
       "    </tr>\n",
       "    <tr>\n",
       "      <th>50%</th>\n",
       "      <td>75862.000000</td>\n",
       "      <td>40223.000000</td>\n",
       "      <td>6241.00000</td>\n",
       "      <td>NaN</td>\n",
       "      <td>NaN</td>\n",
       "      <td>NaN</td>\n",
       "      <td>NaN</td>\n",
       "      <td>NaN</td>\n",
       "      <td>NaN</td>\n",
       "      <td>NaN</td>\n",
       "      <td>...</td>\n",
       "      <td>1.819000e+05</td>\n",
       "      <td>1.826000e+05</td>\n",
       "      <td>1.831000e+05</td>\n",
       "      <td>1.840000e+05</td>\n",
       "      <td>1.848000e+05</td>\n",
       "      <td>1.855000e+05</td>\n",
       "      <td>1.864000e+05</td>\n",
       "      <td>1.872000e+05</td>\n",
       "      <td>1.885000e+05</td>\n",
       "      <td>1.897000e+05</td>\n",
       "    </tr>\n",
       "    <tr>\n",
       "      <th>75%</th>\n",
       "      <td>90759.000000</td>\n",
       "      <td>75077.000000</td>\n",
       "      <td>9361.00000</td>\n",
       "      <td>NaN</td>\n",
       "      <td>NaN</td>\n",
       "      <td>NaN</td>\n",
       "      <td>NaN</td>\n",
       "      <td>NaN</td>\n",
       "      <td>NaN</td>\n",
       "      <td>NaN</td>\n",
       "      <td>...</td>\n",
       "      <td>2.927000e+05</td>\n",
       "      <td>2.943000e+05</td>\n",
       "      <td>2.958000e+05</td>\n",
       "      <td>2.972000e+05</td>\n",
       "      <td>2.987000e+05</td>\n",
       "      <td>2.993000e+05</td>\n",
       "      <td>3.003000e+05</td>\n",
       "      <td>3.020000e+05</td>\n",
       "      <td>3.042000e+05</td>\n",
       "      <td>3.061000e+05</td>\n",
       "    </tr>\n",
       "    <tr>\n",
       "      <th>max</th>\n",
       "      <td>738092.000000</td>\n",
       "      <td>99901.000000</td>\n",
       "      <td>12481.00000</td>\n",
       "      <td>1.743500e+06</td>\n",
       "      <td>1.745200e+06</td>\n",
       "      <td>1.744300e+06</td>\n",
       "      <td>1.741300e+06</td>\n",
       "      <td>1.739700e+06</td>\n",
       "      <td>1.741300e+06</td>\n",
       "      <td>1.744500e+06</td>\n",
       "      <td>...</td>\n",
       "      <td>6.053400e+06</td>\n",
       "      <td>6.105200e+06</td>\n",
       "      <td>6.154300e+06</td>\n",
       "      <td>6.185800e+06</td>\n",
       "      <td>6.207100e+06</td>\n",
       "      <td>6.220800e+06</td>\n",
       "      <td>6.191400e+06</td>\n",
       "      <td>6.155500e+06</td>\n",
       "      <td>6.126100e+06</td>\n",
       "      <td>6.108000e+06</td>\n",
       "    </tr>\n",
       "  </tbody>\n",
       "</table>\n",
       "<p>8 rows × 249 columns</p>\n",
       "</div>"
      ],
      "text/plain": [
       "            RegionID    RegionName     SizeRank       1996-04       1996-05  \\\n",
       "count   12481.000000  12481.000000  12481.00000  9.479000e+03  9.596000e+03   \n",
       "mean    80411.474882  46186.903293   6241.00000  1.205052e+05  1.204896e+05   \n",
       "std     33188.052384  30425.214388   3603.09869  7.029296e+04  7.003150e+04   \n",
       "min     58196.000000   1001.000000      1.00000  2.170000e+04  2.170000e+04   \n",
       "25%     65811.000000  19135.000000   3121.00000           NaN           NaN   \n",
       "50%     75862.000000  40223.000000   6241.00000           NaN           NaN   \n",
       "75%     90759.000000  75077.000000   9361.00000           NaN           NaN   \n",
       "max    738092.000000  99901.000000  12481.00000  1.743500e+06  1.745200e+06   \n",
       "\n",
       "            1996-06       1996-07       1996-08       1996-09       1996-10  \\\n",
       "count  9.618000e+03  9.620000e+03  9.632000e+03  9.632000e+03  9.632000e+03   \n",
       "mean   1.204974e+05  1.205789e+05  1.206743e+05  1.207999e+05  1.209790e+05   \n",
       "std    7.010103e+04  7.022980e+04  7.029980e+04  7.040037e+04  7.053627e+04   \n",
       "min    2.200000e+04  2.220000e+04  2.270000e+04  2.320000e+04  2.360000e+04   \n",
       "25%             NaN           NaN           NaN           NaN           NaN   \n",
       "50%             NaN           NaN           NaN           NaN           NaN   \n",
       "75%             NaN           NaN           NaN           NaN           NaN   \n",
       "max    1.744300e+06  1.741300e+06  1.739700e+06  1.741300e+06  1.744500e+06   \n",
       "\n",
       "           ...            2015-12       2016-01       2016-02       2016-03  \\\n",
       "count      ...       1.248100e+04  1.248100e+04  1.248100e+04  1.248100e+04   \n",
       "mean       ...       2.536400e+05  2.545099e+05  2.555217e+05  2.566992e+05   \n",
       "std        ...       2.467275e+05  2.479438e+05  2.493234e+05  2.505403e+05   \n",
       "min        ...       3.060000e+04  3.060000e+04  3.070000e+04  3.050000e+04   \n",
       "25%        ...       1.253000e+05  1.255000e+05  1.257000e+05  1.262000e+05   \n",
       "50%        ...       1.819000e+05  1.826000e+05  1.831000e+05  1.840000e+05   \n",
       "75%        ...       2.927000e+05  2.943000e+05  2.958000e+05  2.972000e+05   \n",
       "max        ...       6.053400e+06  6.105200e+06  6.154300e+06  6.185800e+06   \n",
       "\n",
       "            2016-04       2016-05       2016-06       2016-07       2016-08  \\\n",
       "count  1.248100e+04  1.248100e+04  1.248100e+04  1.248100e+04  1.248100e+04   \n",
       "mean   2.577561e+05  2.586168e+05  2.594235e+05  2.604256e+05  2.617457e+05   \n",
       "std    2.512693e+05  2.516297e+05  2.519178e+05  2.524270e+05  2.529529e+05   \n",
       "min    3.020000e+04  3.000000e+04  3.030000e+04  3.070000e+04  3.090000e+04   \n",
       "25%    1.267000e+05  1.271000e+05  1.276000e+05  1.280000e+05  1.289000e+05   \n",
       "50%    1.848000e+05  1.855000e+05  1.864000e+05  1.872000e+05  1.885000e+05   \n",
       "75%    2.987000e+05  2.993000e+05  3.003000e+05  3.020000e+05  3.042000e+05   \n",
       "max    6.207100e+06  6.220800e+06  6.191400e+06  6.155500e+06  6.126100e+06   \n",
       "\n",
       "            2016-09  \n",
       "count  1.248100e+04  \n",
       "mean   2.629272e+05  \n",
       "std    2.533642e+05  \n",
       "min    3.130000e+04  \n",
       "25%    1.296000e+05  \n",
       "50%    1.897000e+05  \n",
       "75%    3.061000e+05  \n",
       "max    6.108000e+06  \n",
       "\n",
       "[8 rows x 249 columns]"
      ]
     },
     "execution_count": 119,
     "metadata": {},
     "output_type": "execute_result"
    }
   ],
   "source": [
    "USAhousing.describe()"
   ]
  },
  {
   "cell_type": "code",
   "execution_count": 120,
   "metadata": {
    "collapsed": false
   },
   "outputs": [
    {
     "name": "stderr",
     "output_type": "stream",
     "text": [
      "/Users/jacquescamier/anaconda/lib/python3.5/site-packages/statsmodels/nonparametric/kdetools.py:20: VisibleDeprecationWarning: using a non-integer number instead of an integer will result in an error in the future\n",
      "  y = X[:m/2+1] + np.r_[0,X[m/2+1:],0]*1j\n"
     ]
    },
    {
     "data": {
      "text/plain": [
       "<matplotlib.axes._subplots.AxesSubplot at 0x121374e10>"
      ]
     },
     "execution_count": 120,
     "metadata": {},
     "output_type": "execute_result"
    },
    {
     "data": {
      "image/png": "[encoded data removed]",
      "text/plain": [
       "<matplotlib.figure.Figure at 0x10a6145c0>"
      ]
     },
     "metadata": {},
     "output_type": "display_data"
    }
   ],
   "source": [
    "sns.distplot(USAhousing['2016-09']) # All zipcodes in September 2016"
   ]
  },
  {
   "cell_type": "markdown",
   "metadata": {},
   "source": [
    "## This doesn't really tell us much"
   ]
  },
  {
   "cell_type": "markdown",
   "metadata": {},
   "source": [
    "## Now to do some ML regression analysis"
   ]
  },
  {
   "cell_type": "markdown",
   "metadata": {},
   "source": [
    "## First set your X and y arrays"
   ]
  },
  {
   "cell_type": "code",
   "execution_count": 121,
   "metadata": {
    "collapsed": true
   },
   "outputs": [],
   "source": [
    "X = x"
   ]
  },
  {
   "cell_type": "code",
   "execution_count": 122,
   "metadata": {
    "collapsed": false
   },
   "outputs": [
    {
     "name": "stdout",
     "output_type": "stream",
     "text": [
      "[datetime.datetime(1996, 4, 22, 0, 0) datetime.datetime(1996, 5, 22, 0, 0)\n",
      " datetime.datetime(1996, 6, 22, 0, 0) datetime.datetime(1996, 7, 22, 0, 0)\n",
      " datetime.datetime(1996, 8, 22, 0, 0) datetime.datetime(1996, 9, 22, 0, 0)\n",
      " datetime.datetime(1996, 10, 22, 0, 0)\n",
      " datetime.datetime(1996, 11, 22, 0, 0)\n",
      " datetime.datetime(1996, 12, 22, 0, 0) datetime.datetime(1997, 1, 22, 0, 0)\n",
      " datetime.datetime(1997, 2, 22, 0, 0) datetime.datetime(1997, 3, 22, 0, 0)\n",
      " datetime.datetime(1997, 4, 22, 0, 0) datetime.datetime(1997, 5, 22, 0, 0)\n",
      " datetime.datetime(1997, 6, 22, 0, 0) datetime.datetime(1997, 7, 22, 0, 0)\n",
      " datetime.datetime(1997, 8, 22, 0, 0) datetime.datetime(1997, 9, 22, 0, 0)\n",
      " datetime.datetime(1997, 10, 22, 0, 0)\n",
      " datetime.datetime(1997, 11, 22, 0, 0)\n",
      " datetime.datetime(1997, 12, 22, 0, 0) datetime.datetime(1998, 1, 22, 0, 0)\n",
      " datetime.datetime(1998, 2, 22, 0, 0) datetime.datetime(1998, 3, 22, 0, 0)\n",
      " datetime.datetime(1998, 4, 22, 0, 0) datetime.datetime(1998, 5, 22, 0, 0)\n",
      " datetime.datetime(1998, 6, 22, 0, 0) datetime.datetime(1998, 7, 22, 0, 0)\n",
      " datetime.datetime(1998, 8, 22, 0, 0) datetime.datetime(1998, 9, 22, 0, 0)\n",
      " datetime.datetime(1998, 10, 22, 0, 0)\n",
      " datetime.datetime(1998, 11, 22, 0, 0)\n",
      " datetime.datetime(1998, 12, 22, 0, 0) datetime.datetime(1999, 1, 22, 0, 0)\n",
      " datetime.datetime(1999, 2, 22, 0, 0) datetime.datetime(1999, 3, 22, 0, 0)\n",
      " datetime.datetime(1999, 4, 22, 0, 0) datetime.datetime(1999, 5, 22, 0, 0)\n",
      " datetime.datetime(1999, 6, 22, 0, 0) datetime.datetime(1999, 7, 22, 0, 0)\n",
      " datetime.datetime(1999, 8, 22, 0, 0) datetime.datetime(1999, 9, 22, 0, 0)\n",
      " datetime.datetime(1999, 10, 22, 0, 0)\n",
      " datetime.datetime(1999, 11, 22, 0, 0)\n",
      " datetime.datetime(1999, 12, 22, 0, 0) datetime.datetime(2000, 1, 22, 0, 0)\n",
      " datetime.datetime(2000, 2, 22, 0, 0) datetime.datetime(2000, 3, 22, 0, 0)\n",
      " datetime.datetime(2000, 4, 22, 0, 0) datetime.datetime(2000, 5, 22, 0, 0)\n",
      " datetime.datetime(2000, 6, 22, 0, 0) datetime.datetime(2000, 7, 22, 0, 0)\n",
      " datetime.datetime(2000, 8, 22, 0, 0) datetime.datetime(2000, 9, 22, 0, 0)\n",
      " datetime.datetime(2000, 10, 22, 0, 0)\n",
      " datetime.datetime(2000, 11, 22, 0, 0)\n",
      " datetime.datetime(2000, 12, 22, 0, 0) datetime.datetime(2001, 1, 22, 0, 0)\n",
      " datetime.datetime(2001, 2, 22, 0, 0) datetime.datetime(2001, 3, 22, 0, 0)\n",
      " datetime.datetime(2001, 4, 22, 0, 0) datetime.datetime(2001, 5, 22, 0, 0)\n",
      " datetime.datetime(2001, 6, 22, 0, 0) datetime.datetime(2001, 7, 22, 0, 0)\n",
      " datetime.datetime(2001, 8, 22, 0, 0) datetime.datetime(2001, 9, 22, 0, 0)\n",
      " datetime.datetime(2001, 10, 22, 0, 0)\n",
      " datetime.datetime(2001, 11, 22, 0, 0)\n",
      " datetime.datetime(2001, 12, 22, 0, 0) datetime.datetime(2002, 1, 22, 0, 0)\n",
      " datetime.datetime(2002, 2, 22, 0, 0) datetime.datetime(2002, 3, 22, 0, 0)\n",
      " datetime.datetime(2002, 4, 22, 0, 0) datetime.datetime(2002, 5, 22, 0, 0)\n",
      " datetime.datetime(2002, 6, 22, 0, 0) datetime.datetime(2002, 7, 22, 0, 0)\n",
      " datetime.datetime(2002, 8, 22, 0, 0) datetime.datetime(2002, 9, 22, 0, 0)\n",
      " datetime.datetime(2002, 10, 22, 0, 0)\n",
      " datetime.datetime(2002, 11, 22, 0, 0)\n",
      " datetime.datetime(2002, 12, 22, 0, 0) datetime.datetime(2003, 1, 22, 0, 0)\n",
      " datetime.datetime(2003, 2, 22, 0, 0) datetime.datetime(2003, 3, 22, 0, 0)\n",
      " datetime.datetime(2003, 4, 22, 0, 0) datetime.datetime(2003, 5, 22, 0, 0)\n",
      " datetime.datetime(2003, 6, 22, 0, 0) datetime.datetime(2003, 7, 22, 0, 0)\n",
      " datetime.datetime(2003, 8, 22, 0, 0) datetime.datetime(2003, 9, 22, 0, 0)\n",
      " datetime.datetime(2003, 10, 22, 0, 0)\n",
      " datetime.datetime(2003, 11, 22, 0, 0)\n",
      " datetime.datetime(2003, 12, 22, 0, 0) datetime.datetime(2004, 1, 22, 0, 0)\n",
      " datetime.datetime(2004, 2, 22, 0, 0) datetime.datetime(2004, 3, 22, 0, 0)\n",
      " datetime.datetime(2004, 4, 22, 0, 0) datetime.datetime(2004, 5, 22, 0, 0)\n",
      " datetime.datetime(2004, 6, 22, 0, 0) datetime.datetime(2004, 7, 22, 0, 0)\n",
      " datetime.datetime(2004, 8, 22, 0, 0) datetime.datetime(2004, 9, 22, 0, 0)\n",
      " datetime.datetime(2004, 10, 22, 0, 0)\n",
      " datetime.datetime(2004, 11, 22, 0, 0)\n",
      " datetime.datetime(2004, 12, 22, 0, 0) datetime.datetime(2005, 1, 22, 0, 0)\n",
      " datetime.datetime(2005, 2, 22, 0, 0) datetime.datetime(2005, 3, 22, 0, 0)\n",
      " datetime.datetime(2005, 4, 22, 0, 0) datetime.datetime(2005, 5, 22, 0, 0)\n",
      " datetime.datetime(2005, 6, 22, 0, 0) datetime.datetime(2005, 7, 22, 0, 0)\n",
      " datetime.datetime(2005, 8, 22, 0, 0) datetime.datetime(2005, 9, 22, 0, 0)\n",
      " datetime.datetime(2005, 10, 22, 0, 0)\n",
      " datetime.datetime(2005, 11, 22, 0, 0)\n",
      " datetime.datetime(2005, 12, 22, 0, 0) datetime.datetime(2006, 1, 22, 0, 0)\n",
      " datetime.datetime(2006, 2, 22, 0, 0) datetime.datetime(2006, 3, 22, 0, 0)\n",
      " datetime.datetime(2006, 4, 22, 0, 0) datetime.datetime(2006, 5, 22, 0, 0)\n",
      " datetime.datetime(2006, 6, 22, 0, 0) datetime.datetime(2006, 7, 22, 0, 0)\n",
      " datetime.datetime(2006, 8, 22, 0, 0) datetime.datetime(2006, 9, 22, 0, 0)\n",
      " datetime.datetime(2006, 10, 22, 0, 0)\n",
      " datetime.datetime(2006, 11, 22, 0, 0)\n",
      " datetime.datetime(2006, 12, 22, 0, 0) datetime.datetime(2007, 1, 22, 0, 0)\n",
      " datetime.datetime(2007, 2, 22, 0, 0) datetime.datetime(2007, 3, 22, 0, 0)\n",
      " datetime.datetime(2007, 4, 22, 0, 0) datetime.datetime(2007, 5, 22, 0, 0)\n",
      " datetime.datetime(2007, 6, 22, 0, 0) datetime.datetime(2007, 7, 22, 0, 0)\n",
      " datetime.datetime(2007, 8, 22, 0, 0) datetime.datetime(2007, 9, 22, 0, 0)\n",
      " datetime.datetime(2007, 10, 22, 0, 0)\n",
      " datetime.datetime(2007, 11, 22, 0, 0)\n",
      " datetime.datetime(2007, 12, 22, 0, 0) datetime.datetime(2008, 1, 22, 0, 0)\n",
      " datetime.datetime(2008, 2, 22, 0, 0) datetime.datetime(2008, 3, 22, 0, 0)\n",
      " datetime.datetime(2008, 4, 22, 0, 0) datetime.datetime(2008, 5, 22, 0, 0)\n",
      " datetime.datetime(2008, 6, 22, 0, 0) datetime.datetime(2008, 7, 22, 0, 0)\n",
      " datetime.datetime(2008, 8, 22, 0, 0) datetime.datetime(2008, 9, 22, 0, 0)\n",
      " datetime.datetime(2008, 10, 22, 0, 0)\n",
      " datetime.datetime(2008, 11, 22, 0, 0)\n",
      " datetime.datetime(2008, 12, 22, 0, 0) datetime.datetime(2009, 1, 22, 0, 0)\n",
      " datetime.datetime(2009, 2, 22, 0, 0) datetime.datetime(2009, 3, 22, 0, 0)\n",
      " datetime.datetime(2009, 4, 22, 0, 0) datetime.datetime(2009, 5, 22, 0, 0)\n",
      " datetime.datetime(2009, 6, 22, 0, 0) datetime.datetime(2009, 7, 22, 0, 0)\n",
      " datetime.datetime(2009, 8, 22, 0, 0) datetime.datetime(2009, 9, 22, 0, 0)\n",
      " datetime.datetime(2009, 10, 22, 0, 0)\n",
      " datetime.datetime(2009, 11, 22, 0, 0)\n",
      " datetime.datetime(2009, 12, 22, 0, 0) datetime.datetime(2010, 1, 22, 0, 0)\n",
      " datetime.datetime(2010, 2, 22, 0, 0) datetime.datetime(2010, 3, 22, 0, 0)\n",
      " datetime.datetime(2010, 4, 22, 0, 0) datetime.datetime(2010, 5, 22, 0, 0)\n",
      " datetime.datetime(2010, 6, 22, 0, 0) datetime.datetime(2010, 7, 22, 0, 0)\n",
      " datetime.datetime(2010, 8, 22, 0, 0) datetime.datetime(2010, 9, 22, 0, 0)\n",
      " datetime.datetime(2010, 10, 22, 0, 0)\n",
      " datetime.datetime(2010, 11, 22, 0, 0)\n",
      " datetime.datetime(2010, 12, 22, 0, 0) datetime.datetime(2011, 1, 22, 0, 0)\n",
      " datetime.datetime(2011, 2, 22, 0, 0) datetime.datetime(2011, 3, 22, 0, 0)\n",
      " datetime.datetime(2011, 4, 22, 0, 0) datetime.datetime(2011, 5, 22, 0, 0)\n",
      " datetime.datetime(2011, 6, 22, 0, 0) datetime.datetime(2011, 7, 22, 0, 0)\n",
      " datetime.datetime(2011, 8, 22, 0, 0) datetime.datetime(2011, 9, 22, 0, 0)\n",
      " datetime.datetime(2011, 10, 22, 0, 0)\n",
      " datetime.datetime(2011, 11, 22, 0, 0)\n",
      " datetime.datetime(2011, 12, 22, 0, 0) datetime.datetime(2012, 1, 22, 0, 0)\n",
      " datetime.datetime(2012, 2, 22, 0, 0) datetime.datetime(2012, 3, 22, 0, 0)\n",
      " datetime.datetime(2012, 4, 22, 0, 0) datetime.datetime(2012, 5, 22, 0, 0)\n",
      " datetime.datetime(2012, 6, 22, 0, 0) datetime.datetime(2012, 7, 22, 0, 0)\n",
      " datetime.datetime(2012, 8, 22, 0, 0) datetime.datetime(2012, 9, 22, 0, 0)\n",
      " datetime.datetime(2012, 10, 22, 0, 0)\n",
      " datetime.datetime(2012, 11, 22, 0, 0)\n",
      " datetime.datetime(2012, 12, 22, 0, 0) datetime.datetime(2013, 1, 22, 0, 0)\n",
      " datetime.datetime(2013, 2, 22, 0, 0) datetime.datetime(2013, 3, 22, 0, 0)\n",
      " datetime.datetime(2013, 4, 22, 0, 0) datetime.datetime(2013, 5, 22, 0, 0)\n",
      " datetime.datetime(2013, 6, 22, 0, 0) datetime.datetime(2013, 7, 22, 0, 0)\n",
      " datetime.datetime(2013, 8, 22, 0, 0) datetime.datetime(2013, 9, 22, 0, 0)\n",
      " datetime.datetime(2013, 10, 22, 0, 0)\n",
      " datetime.datetime(2013, 11, 22, 0, 0)\n",
      " datetime.datetime(2013, 12, 22, 0, 0) datetime.datetime(2014, 1, 22, 0, 0)\n",
      " datetime.datetime(2014, 2, 22, 0, 0) datetime.datetime(2014, 3, 22, 0, 0)\n",
      " datetime.datetime(2014, 4, 22, 0, 0) datetime.datetime(2014, 5, 22, 0, 0)\n",
      " datetime.datetime(2014, 6, 22, 0, 0) datetime.datetime(2014, 7, 22, 0, 0)\n",
      " datetime.datetime(2014, 8, 22, 0, 0) datetime.datetime(2014, 9, 22, 0, 0)\n",
      " datetime.datetime(2014, 10, 22, 0, 0)\n",
      " datetime.datetime(2014, 11, 22, 0, 0)\n",
      " datetime.datetime(2014, 12, 22, 0, 0) datetime.datetime(2015, 1, 22, 0, 0)\n",
      " datetime.datetime(2015, 2, 22, 0, 0) datetime.datetime(2015, 3, 22, 0, 0)\n",
      " datetime.datetime(2015, 4, 22, 0, 0) datetime.datetime(2015, 5, 22, 0, 0)\n",
      " datetime.datetime(2015, 6, 22, 0, 0) datetime.datetime(2015, 7, 22, 0, 0)\n",
      " datetime.datetime(2015, 8, 22, 0, 0) datetime.datetime(2015, 9, 22, 0, 0)\n",
      " datetime.datetime(2015, 10, 22, 0, 0)\n",
      " datetime.datetime(2015, 11, 22, 0, 0)\n",
      " datetime.datetime(2015, 12, 22, 0, 0) datetime.datetime(2016, 1, 22, 0, 0)\n",
      " datetime.datetime(2016, 2, 22, 0, 0) datetime.datetime(2016, 3, 22, 0, 0)\n",
      " datetime.datetime(2016, 4, 22, 0, 0) datetime.datetime(2016, 5, 22, 0, 0)\n",
      " datetime.datetime(2016, 6, 22, 0, 0) datetime.datetime(2016, 7, 22, 0, 0)\n",
      " datetime.datetime(2016, 8, 22, 0, 0) datetime.datetime(2016, 9, 22, 0, 0)]\n"
     ]
    }
   ],
   "source": [
    "print(X)"
   ]
  },
  {
   "cell_type": "code",
   "execution_count": 123,
   "metadata": {
    "collapsed": true
   },
   "outputs": [],
   "source": [
    "y = mke_housing_prices.values"
   ]
  },
  {
   "cell_type": "code",
   "execution_count": 124,
   "metadata": {
    "collapsed": false
   },
   "outputs": [
    {
     "name": "stdout",
     "output_type": "stream",
     "text": [
      "[41400.0 41500.0 41400.0 41500.0 41700.0 41900.0 41800.0 41500.0 41500.0\n",
      " 41800.0 42000.0 42400.0 42700.0 42900.0 43100.0 43300.0 43600.0 44100.0\n",
      " 44700.0 45400.0 45900.0 46600.0 47500.0 48100.0 48400.0 48700.0 48900.0\n",
      " 48900.0 48800.0 48800.0 48800.0 48500.0 48500.0 48800.0 48900.0 49000.0\n",
      " 49200.0 49100.0 48700.0 48600.0 48900.0 49100.0 49500.0 50200.0 50600.0\n",
      " 50800.0 50800.0 50900.0 51000.0 51300.0 52100.0 53000.0 53600.0 53900.0\n",
      " 54100.0 54500.0 54900.0 55200.0 55600.0 56200.0 56900.0 57500.0 57700.0\n",
      " 57700.0 57800.0 58000.0 57900.0 57900.0 58000.0 57900.0 58000.0 58500.0\n",
      " 59100.0 59900.0 60500.0 60800.0 61400.0 62300.0 63500.0 64600.0 65600.0\n",
      " 66400.0 67000.0 67500.0 67800.0 67900.0 68200.0 68700.0 69000.0 69200.0\n",
      " 69600.0 69800.0 70100.0 70600.0 71400.0 72200.0 73300.0 74100.0 75000.0\n",
      " 76100.0 77100.0 78000.0 79000.0 80100.0 81000.0 82100.0 83200.0 84100.0\n",
      " 84800.0 86100.0 87400.0 88600.0 89700.0 90500.0 91100.0 91600.0 92300.0\n",
      " 92800.0 93500.0 94200.0 94900.0 95800.0 96800.0 97600.0 98300.0 98700.0\n",
      " 99100.0 99300.0 99200.0 99100.0 99200.0 99200.0 99400.0 99300.0 98600.0\n",
      " 97700.0 97200.0 97200.0 97600.0 98600.0 99100.0 99100.0 98800.0 98400.0\n",
      " 97200.0 95800.0 94700.0 94200.0 93500.0 93100.0 92700.0 92000.0 90900.0\n",
      " 89900.0 89100.0 88100.0 86800.0 85400.0 84200.0 83100.0 82200.0 81700.0\n",
      " 81100.0 79700.0 79200.0 79600.0 79300.0 77800.0 76300.0 75200.0 74200.0\n",
      " 73100.0 71600.0 69200.0 66600.0 65000.0 63800.0 62400.0 61700.0 61700.0\n",
      " 61300.0 60300.0 59700.0 59600.0 59800.0 60100.0 60300.0 60200.0 60200.0\n",
      " 59800.0 58700.0 57400.0 57400.0 58100.0 58400.0 57700.0 56800.0 55700.0\n",
      " 54700.0 53700.0 52300.0 51300.0 51300 51500 51500 51600 51700 52100 52800\n",
      " 53600 54400 55300 55800 55900 55700 55700 56100 57000 57500 57600 56900\n",
      " 56100 55300 55100 54900 54900 54800 55000 55000 55300 55100 54900 55100\n",
      " 55700 56100 56200 56400 56500 56700 57100 57100 56400 55800 55600 55800\n",
      " 56100]\n"
     ]
    }
   ],
   "source": [
    "print(y)"
   ]
  },
  {
   "cell_type": "markdown",
   "metadata": {},
   "source": [
    "## Now, import Scikit-learn library"
   ]
  },
  {
   "cell_type": "code",
   "execution_count": 125,
   "metadata": {
    "collapsed": true
   },
   "outputs": [],
   "source": [
    "from sklearn.cross_validation import train_test_split"
   ]
  },
  {
   "cell_type": "markdown",
   "metadata": {},
   "source": [
    "## Train Test Split"
   ]
  },
  {
   "cell_type": "code",
   "execution_count": 126,
   "metadata": {
    "collapsed": true
   },
   "outputs": [],
   "source": [
    "X_train, X_test, y_train, y_test = train_test_split(X, y, test_size=0.4, random_state=101)"
   ]
  },
  {
   "cell_type": "markdown",
   "metadata": {},
   "source": [
    "## Creating and Training the Model for Regression Analysis"
   ]
  },
  {
   "cell_type": "code",
   "execution_count": 127,
   "metadata": {
    "collapsed": true
   },
   "outputs": [],
   "source": [
    "from sklearn.linear_model import LinearRegression"
   ]
  },
  {
   "cell_type": "code",
   "execution_count": 128,
   "metadata": {
    "collapsed": true
   },
   "outputs": [],
   "source": [
    "lm = LinearRegression()"
   ]
  },
  {
   "cell_type": "code",
   "execution_count": 129,
   "metadata": {
    "collapsed": false
   },
   "outputs": [
    {
     "ename": "TypeError",
     "evalue": "float() argument must be a string or a number, not 'datetime.datetime'",
     "output_type": "error",
     "traceback": [
      "\u001b[0;31m---------------------------------------------------------------------------\u001b[0m",
      "\u001b[0;31mTypeError\u001b[0m                                 Traceback (most recent call last)",
      "\u001b[0;32m<ipython-input-129-08888bd9312b>\u001b[0m in \u001b[0;36m<module>\u001b[0;34m()\u001b[0m\n\u001b[0;32m----> 1\u001b[0;31m \u001b[0mlm\u001b[0m\u001b[0;34m.\u001b[0m\u001b[0mfit\u001b[0m\u001b[0;34m(\u001b[0m\u001b[0mX_train\u001b[0m\u001b[0;34m,\u001b[0m\u001b[0my_train\u001b[0m\u001b[0;34m)\u001b[0m\u001b[0;34m\u001b[0m\u001b[0m\n\u001b[0m",
      "\u001b[0;32m/Users/jacquescamier/anaconda/lib/python3.5/site-packages/sklearn/linear_model/base.py\u001b[0m in \u001b[0;36mfit\u001b[0;34m(self, X, y, sample_weight)\u001b[0m\n\u001b[1;32m    425\u001b[0m         \u001b[0mn_jobs_\u001b[0m \u001b[0;34m=\u001b[0m \u001b[0mself\u001b[0m\u001b[0;34m.\u001b[0m\u001b[0mn_jobs\u001b[0m\u001b[0;34m\u001b[0m\u001b[0m\n\u001b[1;32m    426\u001b[0m         X, y = check_X_y(X, y, accept_sparse=['csr', 'csc', 'coo'],\n\u001b[0;32m--> 427\u001b[0;31m                          y_numeric=True, multi_output=True)\n\u001b[0m\u001b[1;32m    428\u001b[0m \u001b[0;34m\u001b[0m\u001b[0m\n\u001b[1;32m    429\u001b[0m         \u001b[0;32mif\u001b[0m \u001b[0;34m(\u001b[0m\u001b[0;34m(\u001b[0m\u001b[0msample_weight\u001b[0m \u001b[0;32mis\u001b[0m \u001b[0;32mnot\u001b[0m \u001b[0;32mNone\u001b[0m\u001b[0;34m)\u001b[0m \u001b[0;32mand\u001b[0m \u001b[0mnp\u001b[0m\u001b[0;34m.\u001b[0m\u001b[0matleast_1d\u001b[0m\u001b[0;34m(\u001b[0m\u001b[0msample_weight\u001b[0m\u001b[0;34m)\u001b[0m\u001b[0;34m.\u001b[0m\u001b[0mndim\u001b[0m \u001b[0;34m>\u001b[0m \u001b[0;36m1\u001b[0m\u001b[0;34m)\u001b[0m\u001b[0;34m:\u001b[0m\u001b[0;34m\u001b[0m\u001b[0m\n",
      "\u001b[0;32m/Users/jacquescamier/anaconda/lib/python3.5/site-packages/sklearn/utils/validation.py\u001b[0m in \u001b[0;36mcheck_X_y\u001b[0;34m(X, y, accept_sparse, dtype, order, copy, force_all_finite, ensure_2d, allow_nd, multi_output, ensure_min_samples, ensure_min_features, y_numeric, warn_on_dtype, estimator)\u001b[0m\n\u001b[1;32m    508\u001b[0m     X = check_array(X, accept_sparse, dtype, order, copy, force_all_finite,\n\u001b[1;32m    509\u001b[0m                     \u001b[0mensure_2d\u001b[0m\u001b[0;34m,\u001b[0m \u001b[0mallow_nd\u001b[0m\u001b[0;34m,\u001b[0m \u001b[0mensure_min_samples\u001b[0m\u001b[0;34m,\u001b[0m\u001b[0;34m\u001b[0m\u001b[0m\n\u001b[0;32m--> 510\u001b[0;31m                     ensure_min_features, warn_on_dtype, estimator)\n\u001b[0m\u001b[1;32m    511\u001b[0m     \u001b[0;32mif\u001b[0m \u001b[0mmulti_output\u001b[0m\u001b[0;34m:\u001b[0m\u001b[0;34m\u001b[0m\u001b[0m\n\u001b[1;32m    512\u001b[0m         y = check_array(y, 'csr', force_all_finite=True, ensure_2d=False,\n",
      "\u001b[0;32m/Users/jacquescamier/anaconda/lib/python3.5/site-packages/sklearn/utils/validation.py\u001b[0m in \u001b[0;36mcheck_array\u001b[0;34m(array, accept_sparse, dtype, order, copy, force_all_finite, ensure_2d, allow_nd, ensure_min_samples, ensure_min_features, warn_on_dtype, estimator)\u001b[0m\n\u001b[1;32m    371\u001b[0m                                       force_all_finite)\n\u001b[1;32m    372\u001b[0m     \u001b[0;32melse\u001b[0m\u001b[0;34m:\u001b[0m\u001b[0;34m\u001b[0m\u001b[0m\n\u001b[0;32m--> 373\u001b[0;31m         \u001b[0marray\u001b[0m \u001b[0;34m=\u001b[0m \u001b[0mnp\u001b[0m\u001b[0;34m.\u001b[0m\u001b[0marray\u001b[0m\u001b[0;34m(\u001b[0m\u001b[0marray\u001b[0m\u001b[0;34m,\u001b[0m \u001b[0mdtype\u001b[0m\u001b[0;34m=\u001b[0m\u001b[0mdtype\u001b[0m\u001b[0;34m,\u001b[0m \u001b[0morder\u001b[0m\u001b[0;34m=\u001b[0m\u001b[0morder\u001b[0m\u001b[0;34m,\u001b[0m \u001b[0mcopy\u001b[0m\u001b[0;34m=\u001b[0m\u001b[0mcopy\u001b[0m\u001b[0;34m)\u001b[0m\u001b[0;34m\u001b[0m\u001b[0m\n\u001b[0m\u001b[1;32m    374\u001b[0m \u001b[0;34m\u001b[0m\u001b[0m\n\u001b[1;32m    375\u001b[0m         \u001b[0;32mif\u001b[0m \u001b[0mensure_2d\u001b[0m\u001b[0;34m:\u001b[0m\u001b[0;34m\u001b[0m\u001b[0m\n",
      "\u001b[0;31mTypeError\u001b[0m: float() argument must be a string or a number, not 'datetime.datetime'"
     ]
    }
   ],
   "source": [
    "lm.fit(X_train,y_train)"
   ]
  },
  {
   "cell_type": "markdown",
   "metadata": {},
   "source": [
    "## What the foo is that...!"
   ]
  },
  {
   "cell_type": "markdown",
   "metadata": {},
   "source": [
    "## No problem, let's create the dates to be a float that Scikit can understand"
   ]
  },
  {
   "cell_type": "code",
   "execution_count": 130,
   "metadata": {
    "collapsed": false
   },
   "outputs": [
    {
     "data": {
      "text/plain": [
       "246"
      ]
     },
     "execution_count": 130,
     "metadata": {},
     "output_type": "execute_result"
    }
   ],
   "source": [
    "len(y)"
   ]
  },
  {
   "cell_type": "code",
   "execution_count": 131,
   "metadata": {
    "collapsed": false
   },
   "outputs": [
    {
     "name": "stdout",
     "output_type": "stream",
     "text": [
      "[0, 1, 2, 3, 4, 5, 6, 7, 8, 9, 10, 11, 12, 13, 14, 15, 16, 17, 18, 19, 20, 21, 22, 23, 24, 25, 26, 27, 28, 29, 30, 31, 32, 33, 34, 35, 36, 37, 38, 39, 40, 41, 42, 43, 44, 45, 46, 47, 48, 49, 50, 51, 52, 53, 54, 55, 56, 57, 58, 59, 60, 61, 62, 63, 64, 65, 66, 67, 68, 69, 70, 71, 72, 73, 74, 75, 76, 77, 78, 79, 80, 81, 82, 83, 84, 85, 86, 87, 88, 89, 90, 91, 92, 93, 94, 95, 96, 97, 98, 99, 100, 101, 102, 103, 104, 105, 106, 107, 108, 109, 110, 111, 112, 113, 114, 115, 116, 117, 118, 119, 120, 121, 122, 123, 124, 125, 126, 127, 128, 129, 130, 131, 132, 133, 134, 135, 136, 137, 138, 139, 140, 141, 142, 143, 144, 145, 146, 147, 148, 149, 150, 151, 152, 153, 154, 155, 156, 157, 158, 159, 160, 161, 162, 163, 164, 165, 166, 167, 168, 169, 170, 171, 172, 173, 174, 175, 176, 177, 178, 179, 180, 181, 182, 183, 184, 185, 186, 187, 188, 189, 190, 191, 192, 193, 194, 195, 196, 197, 198, 199, 200, 201, 202, 203, 204, 205, 206, 207, 208, 209, 210, 211, 212, 213, 214, 215, 216, 217, 218, 219, 220, 221, 222, 223, 224, 225, 226, 227, 228, 229, 230, 231, 232, 233, 234, 235, 236, 237, 238, 239, 240, 241, 242, 243, 244, 245]\n"
     ]
    }
   ],
   "source": [
    "X = []\n",
    "for i in range(len(y)):\n",
    "    X.append(i)\n",
    "print(X)"
   ]
  },
  {
   "cell_type": "markdown",
   "metadata": {},
   "source": [
    "## Now we need to convert this list to an array for scikit learn"
   ]
  },
  {
   "cell_type": "code",
   "execution_count": 132,
   "metadata": {
    "collapsed": false
   },
   "outputs": [
    {
     "data": {
      "text/plain": [
       "numpy.ndarray"
      ]
     },
     "execution_count": 132,
     "metadata": {},
     "output_type": "execute_result"
    }
   ],
   "source": [
    "X = np.array(X)\n",
    "type(X)"
   ]
  },
  {
   "cell_type": "code",
   "execution_count": 133,
   "metadata": {
    "collapsed": false
   },
   "outputs": [
    {
     "name": "stderr",
     "output_type": "stream",
     "text": [
      "/Users/jacquescamier/anaconda/lib/python3.5/site-packages/sklearn/utils/validation.py:386: DeprecationWarning: Passing 1d arrays as data is deprecated in 0.17 and willraise ValueError in 0.19. Reshape your data either using X.reshape(-1, 1) if your data has a single feature or X.reshape(1, -1) if it contains a single sample.\n",
      "  DeprecationWarning)\n"
     ]
    },
    {
     "ename": "ValueError",
     "evalue": "Found arrays with inconsistent numbers of samples: [  1 147]",
     "output_type": "error",
     "traceback": [
      "\u001b[0;31m---------------------------------------------------------------------------\u001b[0m",
      "\u001b[0;31mValueError\u001b[0m                                Traceback (most recent call last)",
      "\u001b[0;32m<ipython-input-133-cdee26cb72a9>\u001b[0m in \u001b[0;36m<module>\u001b[0;34m()\u001b[0m\n\u001b[1;32m      1\u001b[0m \u001b[0mX_train\u001b[0m\u001b[0;34m,\u001b[0m \u001b[0mX_test\u001b[0m\u001b[0;34m,\u001b[0m \u001b[0my_train\u001b[0m\u001b[0;34m,\u001b[0m \u001b[0my_test\u001b[0m \u001b[0;34m=\u001b[0m \u001b[0mtrain_test_split\u001b[0m\u001b[0;34m(\u001b[0m\u001b[0mX\u001b[0m\u001b[0;34m,\u001b[0m \u001b[0my\u001b[0m\u001b[0;34m,\u001b[0m \u001b[0mtest_size\u001b[0m\u001b[0;34m=\u001b[0m\u001b[0;36m0.4\u001b[0m\u001b[0;34m,\u001b[0m \u001b[0mrandom_state\u001b[0m\u001b[0;34m=\u001b[0m\u001b[0;36m101\u001b[0m\u001b[0;34m)\u001b[0m\u001b[0;34m\u001b[0m\u001b[0m\n\u001b[1;32m      2\u001b[0m \u001b[0mlm\u001b[0m \u001b[0;34m=\u001b[0m \u001b[0mLinearRegression\u001b[0m\u001b[0;34m(\u001b[0m\u001b[0;34m)\u001b[0m\u001b[0;34m\u001b[0m\u001b[0m\n\u001b[0;32m----> 3\u001b[0;31m \u001b[0mlm\u001b[0m\u001b[0;34m.\u001b[0m\u001b[0mfit\u001b[0m\u001b[0;34m(\u001b[0m\u001b[0mX_train\u001b[0m\u001b[0;34m,\u001b[0m\u001b[0my_train\u001b[0m\u001b[0;34m)\u001b[0m\u001b[0;34m\u001b[0m\u001b[0m\n\u001b[0m",
      "\u001b[0;32m/Users/jacquescamier/anaconda/lib/python3.5/site-packages/sklearn/linear_model/base.py\u001b[0m in \u001b[0;36mfit\u001b[0;34m(self, X, y, sample_weight)\u001b[0m\n\u001b[1;32m    425\u001b[0m         \u001b[0mn_jobs_\u001b[0m \u001b[0;34m=\u001b[0m \u001b[0mself\u001b[0m\u001b[0;34m.\u001b[0m\u001b[0mn_jobs\u001b[0m\u001b[0;34m\u001b[0m\u001b[0m\n\u001b[1;32m    426\u001b[0m         X, y = check_X_y(X, y, accept_sparse=['csr', 'csc', 'coo'],\n\u001b[0;32m--> 427\u001b[0;31m                          y_numeric=True, multi_output=True)\n\u001b[0m\u001b[1;32m    428\u001b[0m \u001b[0;34m\u001b[0m\u001b[0m\n\u001b[1;32m    429\u001b[0m         \u001b[0;32mif\u001b[0m \u001b[0;34m(\u001b[0m\u001b[0;34m(\u001b[0m\u001b[0msample_weight\u001b[0m \u001b[0;32mis\u001b[0m \u001b[0;32mnot\u001b[0m \u001b[0;32mNone\u001b[0m\u001b[0;34m)\u001b[0m \u001b[0;32mand\u001b[0m \u001b[0mnp\u001b[0m\u001b[0;34m.\u001b[0m\u001b[0matleast_1d\u001b[0m\u001b[0;34m(\u001b[0m\u001b[0msample_weight\u001b[0m\u001b[0;34m)\u001b[0m\u001b[0;34m.\u001b[0m\u001b[0mndim\u001b[0m \u001b[0;34m>\u001b[0m \u001b[0;36m1\u001b[0m\u001b[0;34m)\u001b[0m\u001b[0;34m:\u001b[0m\u001b[0;34m\u001b[0m\u001b[0m\n",
      "\u001b[0;32m/Users/jacquescamier/anaconda/lib/python3.5/site-packages/sklearn/utils/validation.py\u001b[0m in \u001b[0;36mcheck_X_y\u001b[0;34m(X, y, accept_sparse, dtype, order, copy, force_all_finite, ensure_2d, allow_nd, multi_output, ensure_min_samples, ensure_min_features, y_numeric, warn_on_dtype, estimator)\u001b[0m\n\u001b[1;32m    518\u001b[0m         \u001b[0my\u001b[0m \u001b[0;34m=\u001b[0m \u001b[0my\u001b[0m\u001b[0;34m.\u001b[0m\u001b[0mastype\u001b[0m\u001b[0;34m(\u001b[0m\u001b[0mnp\u001b[0m\u001b[0;34m.\u001b[0m\u001b[0mfloat64\u001b[0m\u001b[0;34m)\u001b[0m\u001b[0;34m\u001b[0m\u001b[0m\n\u001b[1;32m    519\u001b[0m \u001b[0;34m\u001b[0m\u001b[0m\n\u001b[0;32m--> 520\u001b[0;31m     \u001b[0mcheck_consistent_length\u001b[0m\u001b[0;34m(\u001b[0m\u001b[0mX\u001b[0m\u001b[0;34m,\u001b[0m \u001b[0my\u001b[0m\u001b[0;34m)\u001b[0m\u001b[0;34m\u001b[0m\u001b[0m\n\u001b[0m\u001b[1;32m    521\u001b[0m \u001b[0;34m\u001b[0m\u001b[0m\n\u001b[1;32m    522\u001b[0m     \u001b[0;32mreturn\u001b[0m \u001b[0mX\u001b[0m\u001b[0;34m,\u001b[0m \u001b[0my\u001b[0m\u001b[0;34m\u001b[0m\u001b[0m\n",
      "\u001b[0;32m/Users/jacquescamier/anaconda/lib/python3.5/site-packages/sklearn/utils/validation.py\u001b[0m in \u001b[0;36mcheck_consistent_length\u001b[0;34m(*arrays)\u001b[0m\n\u001b[1;32m    174\u001b[0m     \u001b[0;32mif\u001b[0m \u001b[0mlen\u001b[0m\u001b[0;34m(\u001b[0m\u001b[0muniques\u001b[0m\u001b[0;34m)\u001b[0m \u001b[0;34m>\u001b[0m \u001b[0;36m1\u001b[0m\u001b[0;34m:\u001b[0m\u001b[0;34m\u001b[0m\u001b[0m\n\u001b[1;32m    175\u001b[0m         raise ValueError(\"Found arrays with inconsistent numbers of samples: \"\n\u001b[0;32m--> 176\u001b[0;31m                          \"%s\" % str(uniques))\n\u001b[0m\u001b[1;32m    177\u001b[0m \u001b[0;34m\u001b[0m\u001b[0m\n\u001b[1;32m    178\u001b[0m \u001b[0;34m\u001b[0m\u001b[0m\n",
      "\u001b[0;31mValueError\u001b[0m: Found arrays with inconsistent numbers of samples: [  1 147]"
     ]
    }
   ],
   "source": [
    "X_train, X_test, y_train, y_test = train_test_split(X, y, test_size=0.4, random_state=101)\n",
    "lm = LinearRegression()\n",
    "lm.fit(X_train,y_train)"
   ]
  },
  {
   "cell_type": "markdown",
   "metadata": {},
   "source": [
    "## Another error, no worries. We will use Python to manipulate the data"
   ]
  },
  {
   "cell_type": "code",
   "execution_count": 145,
   "metadata": {
    "collapsed": false
   },
   "outputs": [],
   "source": [
    "X = X.reshape(1, -1)"
   ]
  },
  {
   "cell_type": "code",
   "execution_count": 146,
   "metadata": {
    "collapsed": false
   },
   "outputs": [
    {
     "ename": "ValueError",
     "evalue": "Found arrays with inconsistent numbers of samples: [  1 246]",
     "output_type": "error",
     "traceback": [
      "\u001b[0;31m---------------------------------------------------------------------------\u001b[0m",
      "\u001b[0;31mValueError\u001b[0m                                Traceback (most recent call last)",
      "\u001b[0;32m<ipython-input-146-cdee26cb72a9>\u001b[0m in \u001b[0;36m<module>\u001b[0;34m()\u001b[0m\n\u001b[0;32m----> 1\u001b[0;31m \u001b[0mX_train\u001b[0m\u001b[0;34m,\u001b[0m \u001b[0mX_test\u001b[0m\u001b[0;34m,\u001b[0m \u001b[0my_train\u001b[0m\u001b[0;34m,\u001b[0m \u001b[0my_test\u001b[0m \u001b[0;34m=\u001b[0m \u001b[0mtrain_test_split\u001b[0m\u001b[0;34m(\u001b[0m\u001b[0mX\u001b[0m\u001b[0;34m,\u001b[0m \u001b[0my\u001b[0m\u001b[0;34m,\u001b[0m \u001b[0mtest_size\u001b[0m\u001b[0;34m=\u001b[0m\u001b[0;36m0.4\u001b[0m\u001b[0;34m,\u001b[0m \u001b[0mrandom_state\u001b[0m\u001b[0;34m=\u001b[0m\u001b[0;36m101\u001b[0m\u001b[0;34m)\u001b[0m\u001b[0;34m\u001b[0m\u001b[0m\n\u001b[0m\u001b[1;32m      2\u001b[0m \u001b[0mlm\u001b[0m \u001b[0;34m=\u001b[0m \u001b[0mLinearRegression\u001b[0m\u001b[0;34m(\u001b[0m\u001b[0;34m)\u001b[0m\u001b[0;34m\u001b[0m\u001b[0m\n\u001b[1;32m      3\u001b[0m \u001b[0mlm\u001b[0m\u001b[0;34m.\u001b[0m\u001b[0mfit\u001b[0m\u001b[0;34m(\u001b[0m\u001b[0mX_train\u001b[0m\u001b[0;34m,\u001b[0m\u001b[0my_train\u001b[0m\u001b[0;34m)\u001b[0m\u001b[0;34m\u001b[0m\u001b[0m\n",
      "\u001b[0;32m/Users/jacquescamier/anaconda/lib/python3.5/site-packages/sklearn/cross_validation.py\u001b[0m in \u001b[0;36mtrain_test_split\u001b[0;34m(*arrays, **options)\u001b[0m\n\u001b[1;32m   1904\u001b[0m     \u001b[0;32mif\u001b[0m \u001b[0mtest_size\u001b[0m \u001b[0;32mis\u001b[0m \u001b[0;32mNone\u001b[0m \u001b[0;32mand\u001b[0m \u001b[0mtrain_size\u001b[0m \u001b[0;32mis\u001b[0m \u001b[0;32mNone\u001b[0m\u001b[0;34m:\u001b[0m\u001b[0;34m\u001b[0m\u001b[0m\n\u001b[1;32m   1905\u001b[0m         \u001b[0mtest_size\u001b[0m \u001b[0;34m=\u001b[0m \u001b[0;36m0.25\u001b[0m\u001b[0;34m\u001b[0m\u001b[0m\n\u001b[0;32m-> 1906\u001b[0;31m     \u001b[0marrays\u001b[0m \u001b[0;34m=\u001b[0m \u001b[0mindexable\u001b[0m\u001b[0;34m(\u001b[0m\u001b[0;34m*\u001b[0m\u001b[0marrays\u001b[0m\u001b[0;34m)\u001b[0m\u001b[0;34m\u001b[0m\u001b[0m\n\u001b[0m\u001b[1;32m   1907\u001b[0m     \u001b[0;32mif\u001b[0m \u001b[0mstratify\u001b[0m \u001b[0;32mis\u001b[0m \u001b[0;32mnot\u001b[0m \u001b[0;32mNone\u001b[0m\u001b[0;34m:\u001b[0m\u001b[0;34m\u001b[0m\u001b[0m\n\u001b[1;32m   1908\u001b[0m         cv = StratifiedShuffleSplit(stratify, test_size=test_size,\n",
      "\u001b[0;32m/Users/jacquescamier/anaconda/lib/python3.5/site-packages/sklearn/utils/validation.py\u001b[0m in \u001b[0;36mindexable\u001b[0;34m(*iterables)\u001b[0m\n\u001b[1;32m    199\u001b[0m         \u001b[0;32melse\u001b[0m\u001b[0;34m:\u001b[0m\u001b[0;34m\u001b[0m\u001b[0m\n\u001b[1;32m    200\u001b[0m             \u001b[0mresult\u001b[0m\u001b[0;34m.\u001b[0m\u001b[0mappend\u001b[0m\u001b[0;34m(\u001b[0m\u001b[0mnp\u001b[0m\u001b[0;34m.\u001b[0m\u001b[0marray\u001b[0m\u001b[0;34m(\u001b[0m\u001b[0mX\u001b[0m\u001b[0;34m)\u001b[0m\u001b[0;34m)\u001b[0m\u001b[0;34m\u001b[0m\u001b[0m\n\u001b[0;32m--> 201\u001b[0;31m     \u001b[0mcheck_consistent_length\u001b[0m\u001b[0;34m(\u001b[0m\u001b[0;34m*\u001b[0m\u001b[0mresult\u001b[0m\u001b[0;34m)\u001b[0m\u001b[0;34m\u001b[0m\u001b[0m\n\u001b[0m\u001b[1;32m    202\u001b[0m     \u001b[0;32mreturn\u001b[0m \u001b[0mresult\u001b[0m\u001b[0;34m\u001b[0m\u001b[0m\n\u001b[1;32m    203\u001b[0m \u001b[0;34m\u001b[0m\u001b[0m\n",
      "\u001b[0;32m/Users/jacquescamier/anaconda/lib/python3.5/site-packages/sklearn/utils/validation.py\u001b[0m in \u001b[0;36mcheck_consistent_length\u001b[0;34m(*arrays)\u001b[0m\n\u001b[1;32m    174\u001b[0m     \u001b[0;32mif\u001b[0m \u001b[0mlen\u001b[0m\u001b[0;34m(\u001b[0m\u001b[0muniques\u001b[0m\u001b[0;34m)\u001b[0m \u001b[0;34m>\u001b[0m \u001b[0;36m1\u001b[0m\u001b[0;34m:\u001b[0m\u001b[0;34m\u001b[0m\u001b[0m\n\u001b[1;32m    175\u001b[0m         raise ValueError(\"Found arrays with inconsistent numbers of samples: \"\n\u001b[0;32m--> 176\u001b[0;31m                          \"%s\" % str(uniques))\n\u001b[0m\u001b[1;32m    177\u001b[0m \u001b[0;34m\u001b[0m\u001b[0m\n\u001b[1;32m    178\u001b[0m \u001b[0;34m\u001b[0m\u001b[0m\n",
      "\u001b[0;31mValueError\u001b[0m: Found arrays with inconsistent numbers of samples: [  1 246]"
     ]
    }
   ],
   "source": [
    "X_train, X_test, y_train, y_test = train_test_split(X, y, test_size=0.4, random_state=101)\n",
    "lm = LinearRegression()\n",
    "lm.fit(X_train,y_train)"
   ]
  },
  {
   "cell_type": "markdown",
   "metadata": {},
   "source": [
    "## Still no luck, let's see why?"
   ]
  },
  {
   "cell_type": "code",
   "execution_count": 151,
   "metadata": {
    "collapsed": false
   },
   "outputs": [
    {
     "data": {
      "text/plain": [
       "1"
      ]
     },
     "execution_count": 151,
     "metadata": {},
     "output_type": "execute_result"
    }
   ],
   "source": [
    "len(X)"
   ]
  },
  {
   "cell_type": "code",
   "execution_count": 152,
   "metadata": {
    "collapsed": false
   },
   "outputs": [
    {
     "data": {
      "text/plain": [
       "246"
      ]
     },
     "execution_count": 152,
     "metadata": {},
     "output_type": "execute_result"
    }
   ],
   "source": [
    "len(y)"
   ]
  },
  {
   "cell_type": "code",
   "execution_count": 153,
   "metadata": {
    "collapsed": true
   },
   "outputs": [],
   "source": [
    "## the X values are an array but only recognized as 1 dataset\n",
    "y = y.reshape(1, -1)"
   ]
  },
  {
   "cell_type": "code",
   "execution_count": 154,
   "metadata": {
    "collapsed": false
   },
   "outputs": [
    {
     "data": {
      "text/plain": [
       "1"
      ]
     },
     "execution_count": 154,
     "metadata": {},
     "output_type": "execute_result"
    }
   ],
   "source": [
    "len(y)"
   ]
  },
  {
   "cell_type": "code",
   "execution_count": 155,
   "metadata": {
    "collapsed": false
   },
   "outputs": [
    {
     "data": {
      "text/plain": [
       "array([[41400.0, 41500.0, 41400.0, 41500.0, 41700.0, 41900.0, 41800.0,\n",
       "        41500.0, 41500.0, 41800.0, 42000.0, 42400.0, 42700.0, 42900.0,\n",
       "        43100.0, 43300.0, 43600.0, 44100.0, 44700.0, 45400.0, 45900.0,\n",
       "        46600.0, 47500.0, 48100.0, 48400.0, 48700.0, 48900.0, 48900.0,\n",
       "        48800.0, 48800.0, 48800.0, 48500.0, 48500.0, 48800.0, 48900.0,\n",
       "        49000.0, 49200.0, 49100.0, 48700.0, 48600.0, 48900.0, 49100.0,\n",
       "        49500.0, 50200.0, 50600.0, 50800.0, 50800.0, 50900.0, 51000.0,\n",
       "        51300.0, 52100.0, 53000.0, 53600.0, 53900.0, 54100.0, 54500.0,\n",
       "        54900.0, 55200.0, 55600.0, 56200.0, 56900.0, 57500.0, 57700.0,\n",
       "        57700.0, 57800.0, 58000.0, 57900.0, 57900.0, 58000.0, 57900.0,\n",
       "        58000.0, 58500.0, 59100.0, 59900.0, 60500.0, 60800.0, 61400.0,\n",
       "        62300.0, 63500.0, 64600.0, 65600.0, 66400.0, 67000.0, 67500.0,\n",
       "        67800.0, 67900.0, 68200.0, 68700.0, 69000.0, 69200.0, 69600.0,\n",
       "        69800.0, 70100.0, 70600.0, 71400.0, 72200.0, 73300.0, 74100.0,\n",
       "        75000.0, 76100.0, 77100.0, 78000.0, 79000.0, 80100.0, 81000.0,\n",
       "        82100.0, 83200.0, 84100.0, 84800.0, 86100.0, 87400.0, 88600.0,\n",
       "        89700.0, 90500.0, 91100.0, 91600.0, 92300.0, 92800.0, 93500.0,\n",
       "        94200.0, 94900.0, 95800.0, 96800.0, 97600.0, 98300.0, 98700.0,\n",
       "        99100.0, 99300.0, 99200.0, 99100.0, 99200.0, 99200.0, 99400.0,\n",
       "        99300.0, 98600.0, 97700.0, 97200.0, 97200.0, 97600.0, 98600.0,\n",
       "        99100.0, 99100.0, 98800.0, 98400.0, 97200.0, 95800.0, 94700.0,\n",
       "        94200.0, 93500.0, 93100.0, 92700.0, 92000.0, 90900.0, 89900.0,\n",
       "        89100.0, 88100.0, 86800.0, 85400.0, 84200.0, 83100.0, 82200.0,\n",
       "        81700.0, 81100.0, 79700.0, 79200.0, 79600.0, 79300.0, 77800.0,\n",
       "        76300.0, 75200.0, 74200.0, 73100.0, 71600.0, 69200.0, 66600.0,\n",
       "        65000.0, 63800.0, 62400.0, 61700.0, 61700.0, 61300.0, 60300.0,\n",
       "        59700.0, 59600.0, 59800.0, 60100.0, 60300.0, 60200.0, 60200.0,\n",
       "        59800.0, 58700.0, 57400.0, 57400.0, 58100.0, 58400.0, 57700.0,\n",
       "        56800.0, 55700.0, 54700.0, 53700.0, 52300.0, 51300.0, 51300, 51500,\n",
       "        51500, 51600, 51700, 52100, 52800, 53600, 54400, 55300, 55800,\n",
       "        55900, 55700, 55700, 56100, 57000, 57500, 57600, 56900, 56100,\n",
       "        55300, 55100, 54900, 54900, 54800, 55000, 55000, 55300, 55100,\n",
       "        54900, 55100, 55700, 56100, 56200, 56400, 56500, 56700, 57100,\n",
       "        57100, 56400, 55800, 55600, 55800, 56100]], dtype=object)"
      ]
     },
     "execution_count": 155,
     "metadata": {},
     "output_type": "execute_result"
    }
   ],
   "source": [
    "y"
   ]
  },
  {
   "cell_type": "code",
   "execution_count": 156,
   "metadata": {
    "collapsed": false
   },
   "outputs": [
    {
     "ename": "ValueError",
     "evalue": "Found array with 0 sample(s) (shape=(0, 246)) while a minimum of 1 is required.",
     "output_type": "error",
     "traceback": [
      "\u001b[0;31m---------------------------------------------------------------------------\u001b[0m",
      "\u001b[0;31mValueError\u001b[0m                                Traceback (most recent call last)",
      "\u001b[0;32m<ipython-input-156-cdee26cb72a9>\u001b[0m in \u001b[0;36m<module>\u001b[0;34m()\u001b[0m\n\u001b[1;32m      1\u001b[0m \u001b[0mX_train\u001b[0m\u001b[0;34m,\u001b[0m \u001b[0mX_test\u001b[0m\u001b[0;34m,\u001b[0m \u001b[0my_train\u001b[0m\u001b[0;34m,\u001b[0m \u001b[0my_test\u001b[0m \u001b[0;34m=\u001b[0m \u001b[0mtrain_test_split\u001b[0m\u001b[0;34m(\u001b[0m\u001b[0mX\u001b[0m\u001b[0;34m,\u001b[0m \u001b[0my\u001b[0m\u001b[0;34m,\u001b[0m \u001b[0mtest_size\u001b[0m\u001b[0;34m=\u001b[0m\u001b[0;36m0.4\u001b[0m\u001b[0;34m,\u001b[0m \u001b[0mrandom_state\u001b[0m\u001b[0;34m=\u001b[0m\u001b[0;36m101\u001b[0m\u001b[0;34m)\u001b[0m\u001b[0;34m\u001b[0m\u001b[0m\n\u001b[1;32m      2\u001b[0m \u001b[0mlm\u001b[0m \u001b[0;34m=\u001b[0m \u001b[0mLinearRegression\u001b[0m\u001b[0;34m(\u001b[0m\u001b[0;34m)\u001b[0m\u001b[0;34m\u001b[0m\u001b[0m\n\u001b[0;32m----> 3\u001b[0;31m \u001b[0mlm\u001b[0m\u001b[0;34m.\u001b[0m\u001b[0mfit\u001b[0m\u001b[0;34m(\u001b[0m\u001b[0mX_train\u001b[0m\u001b[0;34m,\u001b[0m\u001b[0my_train\u001b[0m\u001b[0;34m)\u001b[0m\u001b[0;34m\u001b[0m\u001b[0m\n\u001b[0m",
      "\u001b[0;32m/Users/jacquescamier/anaconda/lib/python3.5/site-packages/sklearn/linear_model/base.py\u001b[0m in \u001b[0;36mfit\u001b[0;34m(self, X, y, sample_weight)\u001b[0m\n\u001b[1;32m    425\u001b[0m         \u001b[0mn_jobs_\u001b[0m \u001b[0;34m=\u001b[0m \u001b[0mself\u001b[0m\u001b[0;34m.\u001b[0m\u001b[0mn_jobs\u001b[0m\u001b[0;34m\u001b[0m\u001b[0m\n\u001b[1;32m    426\u001b[0m         X, y = check_X_y(X, y, accept_sparse=['csr', 'csc', 'coo'],\n\u001b[0;32m--> 427\u001b[0;31m                          y_numeric=True, multi_output=True)\n\u001b[0m\u001b[1;32m    428\u001b[0m \u001b[0;34m\u001b[0m\u001b[0m\n\u001b[1;32m    429\u001b[0m         \u001b[0;32mif\u001b[0m \u001b[0;34m(\u001b[0m\u001b[0;34m(\u001b[0m\u001b[0msample_weight\u001b[0m \u001b[0;32mis\u001b[0m \u001b[0;32mnot\u001b[0m \u001b[0;32mNone\u001b[0m\u001b[0;34m)\u001b[0m \u001b[0;32mand\u001b[0m \u001b[0mnp\u001b[0m\u001b[0;34m.\u001b[0m\u001b[0matleast_1d\u001b[0m\u001b[0;34m(\u001b[0m\u001b[0msample_weight\u001b[0m\u001b[0;34m)\u001b[0m\u001b[0;34m.\u001b[0m\u001b[0mndim\u001b[0m \u001b[0;34m>\u001b[0m \u001b[0;36m1\u001b[0m\u001b[0;34m)\u001b[0m\u001b[0;34m:\u001b[0m\u001b[0;34m\u001b[0m\u001b[0m\n",
      "\u001b[0;32m/Users/jacquescamier/anaconda/lib/python3.5/site-packages/sklearn/utils/validation.py\u001b[0m in \u001b[0;36mcheck_X_y\u001b[0;34m(X, y, accept_sparse, dtype, order, copy, force_all_finite, ensure_2d, allow_nd, multi_output, ensure_min_samples, ensure_min_features, y_numeric, warn_on_dtype, estimator)\u001b[0m\n\u001b[1;32m    508\u001b[0m     X = check_array(X, accept_sparse, dtype, order, copy, force_all_finite,\n\u001b[1;32m    509\u001b[0m                     \u001b[0mensure_2d\u001b[0m\u001b[0;34m,\u001b[0m \u001b[0mallow_nd\u001b[0m\u001b[0;34m,\u001b[0m \u001b[0mensure_min_samples\u001b[0m\u001b[0;34m,\u001b[0m\u001b[0;34m\u001b[0m\u001b[0m\n\u001b[0;32m--> 510\u001b[0;31m                     ensure_min_features, warn_on_dtype, estimator)\n\u001b[0m\u001b[1;32m    511\u001b[0m     \u001b[0;32mif\u001b[0m \u001b[0mmulti_output\u001b[0m\u001b[0;34m:\u001b[0m\u001b[0;34m\u001b[0m\u001b[0m\n\u001b[1;32m    512\u001b[0m         y = check_array(y, 'csr', force_all_finite=True, ensure_2d=False,\n",
      "\u001b[0;32m/Users/jacquescamier/anaconda/lib/python3.5/site-packages/sklearn/utils/validation.py\u001b[0m in \u001b[0;36mcheck_array\u001b[0;34m(array, accept_sparse, dtype, order, copy, force_all_finite, ensure_2d, allow_nd, ensure_min_samples, ensure_min_features, warn_on_dtype, estimator)\u001b[0m\n\u001b[1;32m    405\u001b[0m                              \u001b[0;34m\" minimum of %d is required%s.\"\u001b[0m\u001b[0;34m\u001b[0m\u001b[0m\n\u001b[1;32m    406\u001b[0m                              % (n_samples, shape_repr, ensure_min_samples,\n\u001b[0;32m--> 407\u001b[0;31m                                 context))\n\u001b[0m\u001b[1;32m    408\u001b[0m \u001b[0;34m\u001b[0m\u001b[0m\n\u001b[1;32m    409\u001b[0m     \u001b[0;32mif\u001b[0m \u001b[0mensure_min_features\u001b[0m \u001b[0;34m>\u001b[0m \u001b[0;36m0\u001b[0m \u001b[0;32mand\u001b[0m \u001b[0marray\u001b[0m\u001b[0;34m.\u001b[0m\u001b[0mndim\u001b[0m \u001b[0;34m==\u001b[0m \u001b[0;36m2\u001b[0m\u001b[0;34m:\u001b[0m\u001b[0;34m\u001b[0m\u001b[0m\n",
      "\u001b[0;31mValueError\u001b[0m: Found array with 0 sample(s) (shape=(0, 246)) while a minimum of 1 is required."
     ]
    }
   ],
   "source": [
    "X_train, X_test, y_train, y_test = train_test_split(X, y, test_size=0.4, random_state=101)\n",
    "lm = LinearRegression()\n",
    "lm.fit(X_train,y_train)"
   ]
  },
  {
   "cell_type": "code",
   "execution_count": null,
   "metadata": {
    "collapsed": true
   },
   "outputs": [],
   "source": []
  }
 ],
 "metadata": {
  "anaconda-cloud": {},
  "kernelspec": {
   "display_name": "Python [Root]",
   "language": "python",
   "name": "Python [Root]"
  },
  "language_info": {
   "codemirror_mode": {
    "name": "ipython",
    "version": 3
   },
   "file_extension": ".py",
   "mimetype": "text/x-python",
   "name": "python",
   "nbconvert_exporter": "python",
   "pygments_lexer": "ipython3",
   "version": "3.5.2"
  }
 },
 "nbformat": 4,
 "nbformat_minor": 0
}
